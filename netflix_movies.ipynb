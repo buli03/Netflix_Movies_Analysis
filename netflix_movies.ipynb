{
 "cells": [
  {
   "cell_type": "markdown",
   "id": "580ace18",
   "metadata": {},
   "source": [
    "# Netflix Movies analysis project\n",
    "\n",
    "## Target of project\n",
    "- Practice using libraries like pandas, matplotlib\n",
    "- Practice explaining targeted problems\n",
    "- Practice visualization\n",
    "\n",
    "## Data\n",
    "Data I used comes from a website called \"Kaggle\" which is a data science community with resources\n",
    "The file i used can be found at link: https://www.kaggle.com/datasets/rahulvyasm/netflix-movies-and-tv-shows\n",
    "\n",
    "## Data description:\n",
    "- show_id: A unique identifier for each title.\n",
    "- type: The category of the title, which is either 'Movie' or 'TV Show'.\n",
    "- title: The name of the movie or TV show.\n",
    "- director: The director(s) of the movie or TV show. (Contains null values for some entries, especially TV shows where this information might not be applicable.)\n",
    "cast: The list of main actors/actresses in the title. (Some entries might not have this information.)\n",
    "- country: The country or countries where the movie or TV show was produced.\n",
    "- date_added: The date the title was added to Netflix.\n",
    "- release_year: The year the movie or TV show was originally released.\n",
    "- rating: The age rating of the title.\n",
    "- duration: The duration of the title, in minutes for movies and seasons for TV shows.\n",
    "- listed_in: The genres the title falls under.\n",
    "- description: A brief summary of the title.\n"
   ]
  },
  {
   "cell_type": "code",
   "execution_count": null,
   "id": "13af8413-7bc2-4258-9a83-5298779a9ce1",
   "metadata": {},
   "outputs": [],
   "source": []
  }
 ],
 "metadata": {
  "kernelspec": {
   "display_name": "venv",
   "language": "python",
   "name": "venv"
  },
  "language_info": {
   "codemirror_mode": {
    "name": "ipython",
    "version": 3
   },
   "file_extension": ".py",
   "mimetype": "text/x-python",
   "name": "python",
   "nbconvert_exporter": "python",
   "pygments_lexer": "ipython3",
   "version": "3.12.0"
  }
 },
 "nbformat": 4,
 "nbformat_minor": 5
}
