{
 "cells": [
  {
   "cell_type": "markdown",
   "id": "d3842ff2",
   "metadata": {},
   "source": [
    "### Importing libraries"
   ]
  },
  {
   "cell_type": "code",
   "execution_count": 251,
   "id": "24cfb190",
   "metadata": {},
   "outputs": [],
   "source": [
    "import pandas as pd\n",
    "import matplotlib.pyplot as plt\n",
    "import seaborn as sns\n",
    "from datetime import datetime\n",
    "import re"
   ]
  },
  {
   "cell_type": "markdown",
   "id": "17f3d0a8",
   "metadata": {},
   "source": [
    "### Loading data"
   ]
  },
  {
   "cell_type": "code",
   "execution_count": 252,
   "id": "a993eebb",
   "metadata": {},
   "outputs": [],
   "source": [
    "netflix_movies = pd.read_csv('data/netflix_titles.csv', delimiter=',', decimal='.', index_col=0, encoding='latin1',  dtype={'listed_in': 'object', 'country': 'object'})"
   ]
  },
  {
   "cell_type": "markdown",
   "id": "5d3435d5",
   "metadata": {},
   "source": [
    "### Data exploration"
   ]
  },
  {
   "cell_type": "code",
   "execution_count": 253,
   "id": "4df973f0",
   "metadata": {},
   "outputs": [
    {
     "name": "stdout",
     "output_type": "stream",
     "text": [
      "<class 'pandas.core.frame.DataFrame'>\n",
      "Index: 8809 entries, s1 to s8809\n",
      "Data columns (total 25 columns):\n",
      " #   Column        Non-Null Count  Dtype  \n",
      "---  ------        --------------  -----  \n",
      " 0   type          8809 non-null   object \n",
      " 1   title         8809 non-null   object \n",
      " 2   director      6175 non-null   object \n",
      " 3   cast          7984 non-null   object \n",
      " 4   country       7978 non-null   object \n",
      " 5   date_added    8799 non-null   object \n",
      " 6   release_year  8809 non-null   int64  \n",
      " 7   rating        8805 non-null   object \n",
      " 8   duration      8806 non-null   object \n",
      " 9   listed_in     8809 non-null   object \n",
      " 10  description   8809 non-null   object \n",
      " 11  Unnamed: 12   0 non-null      float64\n",
      " 12  Unnamed: 13   0 non-null      float64\n",
      " 13  Unnamed: 14   0 non-null      float64\n",
      " 14  Unnamed: 15   0 non-null      float64\n",
      " 15  Unnamed: 16   0 non-null      float64\n",
      " 16  Unnamed: 17   0 non-null      float64\n",
      " 17  Unnamed: 18   0 non-null      float64\n",
      " 18  Unnamed: 19   0 non-null      float64\n",
      " 19  Unnamed: 20   0 non-null      float64\n",
      " 20  Unnamed: 21   0 non-null      float64\n",
      " 21  Unnamed: 22   0 non-null      float64\n",
      " 22  Unnamed: 23   0 non-null      float64\n",
      " 23  Unnamed: 24   0 non-null      float64\n",
      " 24  Unnamed: 25   0 non-null      float64\n",
      "dtypes: float64(14), int64(1), object(10)\n",
      "memory usage: 2.0+ MB\n"
     ]
    }
   ],
   "source": [
    "netflix_movies.info()"
   ]
  },
  {
   "cell_type": "code",
   "execution_count": 254,
   "id": "51cb289e",
   "metadata": {},
   "outputs": [
    {
     "data": {
      "text/html": [
       "<div>\n",
       "<style scoped>\n",
       "    .dataframe tbody tr th:only-of-type {\n",
       "        vertical-align: middle;\n",
       "    }\n",
       "\n",
       "    .dataframe tbody tr th {\n",
       "        vertical-align: top;\n",
       "    }\n",
       "\n",
       "    .dataframe thead th {\n",
       "        text-align: right;\n",
       "    }\n",
       "</style>\n",
       "<table border=\"1\" class=\"dataframe\">\n",
       "  <thead>\n",
       "    <tr style=\"text-align: right;\">\n",
       "      <th></th>\n",
       "      <th>release_year</th>\n",
       "      <th>Unnamed: 12</th>\n",
       "      <th>Unnamed: 13</th>\n",
       "      <th>Unnamed: 14</th>\n",
       "      <th>Unnamed: 15</th>\n",
       "      <th>Unnamed: 16</th>\n",
       "      <th>Unnamed: 17</th>\n",
       "      <th>Unnamed: 18</th>\n",
       "      <th>Unnamed: 19</th>\n",
       "      <th>Unnamed: 20</th>\n",
       "      <th>Unnamed: 21</th>\n",
       "      <th>Unnamed: 22</th>\n",
       "      <th>Unnamed: 23</th>\n",
       "      <th>Unnamed: 24</th>\n",
       "      <th>Unnamed: 25</th>\n",
       "    </tr>\n",
       "  </thead>\n",
       "  <tbody>\n",
       "    <tr>\n",
       "      <th>count</th>\n",
       "      <td>8809.000000</td>\n",
       "      <td>0.0</td>\n",
       "      <td>0.0</td>\n",
       "      <td>0.0</td>\n",
       "      <td>0.0</td>\n",
       "      <td>0.0</td>\n",
       "      <td>0.0</td>\n",
       "      <td>0.0</td>\n",
       "      <td>0.0</td>\n",
       "      <td>0.0</td>\n",
       "      <td>0.0</td>\n",
       "      <td>0.0</td>\n",
       "      <td>0.0</td>\n",
       "      <td>0.0</td>\n",
       "      <td>0.0</td>\n",
       "    </tr>\n",
       "    <tr>\n",
       "      <th>mean</th>\n",
       "      <td>2014.181292</td>\n",
       "      <td>NaN</td>\n",
       "      <td>NaN</td>\n",
       "      <td>NaN</td>\n",
       "      <td>NaN</td>\n",
       "      <td>NaN</td>\n",
       "      <td>NaN</td>\n",
       "      <td>NaN</td>\n",
       "      <td>NaN</td>\n",
       "      <td>NaN</td>\n",
       "      <td>NaN</td>\n",
       "      <td>NaN</td>\n",
       "      <td>NaN</td>\n",
       "      <td>NaN</td>\n",
       "      <td>NaN</td>\n",
       "    </tr>\n",
       "    <tr>\n",
       "      <th>std</th>\n",
       "      <td>8.818932</td>\n",
       "      <td>NaN</td>\n",
       "      <td>NaN</td>\n",
       "      <td>NaN</td>\n",
       "      <td>NaN</td>\n",
       "      <td>NaN</td>\n",
       "      <td>NaN</td>\n",
       "      <td>NaN</td>\n",
       "      <td>NaN</td>\n",
       "      <td>NaN</td>\n",
       "      <td>NaN</td>\n",
       "      <td>NaN</td>\n",
       "      <td>NaN</td>\n",
       "      <td>NaN</td>\n",
       "      <td>NaN</td>\n",
       "    </tr>\n",
       "    <tr>\n",
       "      <th>min</th>\n",
       "      <td>1925.000000</td>\n",
       "      <td>NaN</td>\n",
       "      <td>NaN</td>\n",
       "      <td>NaN</td>\n",
       "      <td>NaN</td>\n",
       "      <td>NaN</td>\n",
       "      <td>NaN</td>\n",
       "      <td>NaN</td>\n",
       "      <td>NaN</td>\n",
       "      <td>NaN</td>\n",
       "      <td>NaN</td>\n",
       "      <td>NaN</td>\n",
       "      <td>NaN</td>\n",
       "      <td>NaN</td>\n",
       "      <td>NaN</td>\n",
       "    </tr>\n",
       "    <tr>\n",
       "      <th>25%</th>\n",
       "      <td>2013.000000</td>\n",
       "      <td>NaN</td>\n",
       "      <td>NaN</td>\n",
       "      <td>NaN</td>\n",
       "      <td>NaN</td>\n",
       "      <td>NaN</td>\n",
       "      <td>NaN</td>\n",
       "      <td>NaN</td>\n",
       "      <td>NaN</td>\n",
       "      <td>NaN</td>\n",
       "      <td>NaN</td>\n",
       "      <td>NaN</td>\n",
       "      <td>NaN</td>\n",
       "      <td>NaN</td>\n",
       "      <td>NaN</td>\n",
       "    </tr>\n",
       "    <tr>\n",
       "      <th>50%</th>\n",
       "      <td>2017.000000</td>\n",
       "      <td>NaN</td>\n",
       "      <td>NaN</td>\n",
       "      <td>NaN</td>\n",
       "      <td>NaN</td>\n",
       "      <td>NaN</td>\n",
       "      <td>NaN</td>\n",
       "      <td>NaN</td>\n",
       "      <td>NaN</td>\n",
       "      <td>NaN</td>\n",
       "      <td>NaN</td>\n",
       "      <td>NaN</td>\n",
       "      <td>NaN</td>\n",
       "      <td>NaN</td>\n",
       "      <td>NaN</td>\n",
       "    </tr>\n",
       "    <tr>\n",
       "      <th>75%</th>\n",
       "      <td>2019.000000</td>\n",
       "      <td>NaN</td>\n",
       "      <td>NaN</td>\n",
       "      <td>NaN</td>\n",
       "      <td>NaN</td>\n",
       "      <td>NaN</td>\n",
       "      <td>NaN</td>\n",
       "      <td>NaN</td>\n",
       "      <td>NaN</td>\n",
       "      <td>NaN</td>\n",
       "      <td>NaN</td>\n",
       "      <td>NaN</td>\n",
       "      <td>NaN</td>\n",
       "      <td>NaN</td>\n",
       "      <td>NaN</td>\n",
       "    </tr>\n",
       "    <tr>\n",
       "      <th>max</th>\n",
       "      <td>2024.000000</td>\n",
       "      <td>NaN</td>\n",
       "      <td>NaN</td>\n",
       "      <td>NaN</td>\n",
       "      <td>NaN</td>\n",
       "      <td>NaN</td>\n",
       "      <td>NaN</td>\n",
       "      <td>NaN</td>\n",
       "      <td>NaN</td>\n",
       "      <td>NaN</td>\n",
       "      <td>NaN</td>\n",
       "      <td>NaN</td>\n",
       "      <td>NaN</td>\n",
       "      <td>NaN</td>\n",
       "      <td>NaN</td>\n",
       "    </tr>\n",
       "  </tbody>\n",
       "</table>\n",
       "</div>"
      ],
      "text/plain": [
       "       release_year  Unnamed: 12  Unnamed: 13  Unnamed: 14  Unnamed: 15  \\\n",
       "count   8809.000000          0.0          0.0          0.0          0.0   \n",
       "mean    2014.181292          NaN          NaN          NaN          NaN   \n",
       "std        8.818932          NaN          NaN          NaN          NaN   \n",
       "min     1925.000000          NaN          NaN          NaN          NaN   \n",
       "25%     2013.000000          NaN          NaN          NaN          NaN   \n",
       "50%     2017.000000          NaN          NaN          NaN          NaN   \n",
       "75%     2019.000000          NaN          NaN          NaN          NaN   \n",
       "max     2024.000000          NaN          NaN          NaN          NaN   \n",
       "\n",
       "       Unnamed: 16  Unnamed: 17  Unnamed: 18  Unnamed: 19  Unnamed: 20  \\\n",
       "count          0.0          0.0          0.0          0.0          0.0   \n",
       "mean           NaN          NaN          NaN          NaN          NaN   \n",
       "std            NaN          NaN          NaN          NaN          NaN   \n",
       "min            NaN          NaN          NaN          NaN          NaN   \n",
       "25%            NaN          NaN          NaN          NaN          NaN   \n",
       "50%            NaN          NaN          NaN          NaN          NaN   \n",
       "75%            NaN          NaN          NaN          NaN          NaN   \n",
       "max            NaN          NaN          NaN          NaN          NaN   \n",
       "\n",
       "       Unnamed: 21  Unnamed: 22  Unnamed: 23  Unnamed: 24  Unnamed: 25  \n",
       "count          0.0          0.0          0.0          0.0          0.0  \n",
       "mean           NaN          NaN          NaN          NaN          NaN  \n",
       "std            NaN          NaN          NaN          NaN          NaN  \n",
       "min            NaN          NaN          NaN          NaN          NaN  \n",
       "25%            NaN          NaN          NaN          NaN          NaN  \n",
       "50%            NaN          NaN          NaN          NaN          NaN  \n",
       "75%            NaN          NaN          NaN          NaN          NaN  \n",
       "max            NaN          NaN          NaN          NaN          NaN  "
      ]
     },
     "execution_count": 254,
     "metadata": {},
     "output_type": "execute_result"
    }
   ],
   "source": [
    "netflix_movies.describe()"
   ]
  },
  {
   "cell_type": "code",
   "execution_count": 255,
   "id": "537e2221",
   "metadata": {},
   "outputs": [
    {
     "name": "stdout",
     "output_type": "stream",
     "text": [
      "Number of null values in each column:\n",
      "type               0\n",
      "title              0\n",
      "director        2634\n",
      "cast             825\n",
      "country          831\n",
      "date_added        10\n",
      "release_year       0\n",
      "rating             4\n",
      "duration           3\n",
      "listed_in          0\n",
      "description        0\n",
      "Unnamed: 12     8809\n",
      "Unnamed: 13     8809\n",
      "Unnamed: 14     8809\n",
      "Unnamed: 15     8809\n",
      "Unnamed: 16     8809\n",
      "Unnamed: 17     8809\n",
      "Unnamed: 18     8809\n",
      "Unnamed: 19     8809\n",
      "Unnamed: 20     8809\n",
      "Unnamed: 21     8809\n",
      "Unnamed: 22     8809\n",
      "Unnamed: 23     8809\n",
      "Unnamed: 24     8809\n",
      "Unnamed: 25     8809\n",
      "dtype: int64\n"
     ]
    }
   ],
   "source": [
    "null_counts = netflix_movies.isnull().sum()\n",
    "print(\"Number of null values in each column:\\n{}\".format(null_counts))"
   ]
  },
  {
   "cell_type": "code",
   "execution_count": 256,
   "id": "c525fb8b",
   "metadata": {},
   "outputs": [
    {
     "data": {
      "text/plain": [
       "8809"
      ]
     },
     "execution_count": 256,
     "metadata": {},
     "output_type": "execute_result"
    }
   ],
   "source": [
    "num_rows = len(netflix_movies)\n",
    "num_rows"
   ]
  },
  {
   "cell_type": "markdown",
   "id": "1b9bd888",
   "metadata": {},
   "source": [
    "### Data cleaning"
   ]
  },
  {
   "cell_type": "markdown",
   "id": "4cb3e38c",
   "metadata": {},
   "source": [
    "#### Deleting unnamed columns"
   ]
  },
  {
   "cell_type": "code",
   "execution_count": 257,
   "id": "182e4ae2",
   "metadata": {},
   "outputs": [],
   "source": [
    "# drop unnamed columns\n",
    "netflix_movies.drop(netflix_movies.columns[netflix_movies.columns.str.contains('unnamed', case=False)], axis=1, inplace=True)"
   ]
  },
  {
   "cell_type": "code",
   "execution_count": 258,
   "id": "c543a5ce",
   "metadata": {},
   "outputs": [
    {
     "name": "stdout",
     "output_type": "stream",
     "text": [
      "Number of null values in each column:\n",
      "type               0\n",
      "title              0\n",
      "director        2634\n",
      "cast             825\n",
      "country          831\n",
      "date_added        10\n",
      "release_year       0\n",
      "rating             4\n",
      "duration           3\n",
      "listed_in          0\n",
      "description        0\n",
      "dtype: int64\n"
     ]
    }
   ],
   "source": [
    "# null counts\n",
    "null_counts = netflix_movies.isnull().sum()\n",
    "print(\"Number of null values in each column:\\n{}\".format(null_counts))"
   ]
  },
  {
   "cell_type": "markdown",
   "id": "4aca0bfd",
   "metadata": {},
   "source": [
    "#### Handling missing data"
   ]
  },
  {
   "cell_type": "code",
   "execution_count": 259,
   "id": "c01f941a",
   "metadata": {},
   "outputs": [
    {
     "name": "stdout",
     "output_type": "stream",
     "text": [
      "Number of null values in each column:\n",
      "type            0\n",
      "title           0\n",
      "director        0\n",
      "cast            0\n",
      "country         0\n",
      "date_added      0\n",
      "release_year    0\n",
      "rating          0\n",
      "duration        0\n",
      "listed_in       0\n",
      "description     0\n",
      "dtype: int64\n"
     ]
    }
   ],
   "source": [
    "netflix_movies[\"director\"] = netflix_movies[\"director\"].fillna('No data') \n",
    "netflix_movies[\"country\"] = netflix_movies[\"country\"].fillna('No data') \n",
    "netflix_movies[\"cast\"] = netflix_movies[\"cast\"].fillna('No data') \n",
    "netflix_movies.dropna(subset=['date_added','rating','duration'],inplace=True) \n",
    "\n",
    "null_counts = netflix_movies.isnull().sum()\n",
    "print(\"Number of null values in each column:\\n{}\".format(null_counts))"
   ]
  },
  {
   "cell_type": "markdown",
   "id": "edb8967d",
   "metadata": {},
   "source": [
    "#### Converting data types for easier access"
   ]
  },
  {
   "cell_type": "markdown",
   "id": "065f2d6e",
   "metadata": {},
   "source": [
    "##### Split 'cast' and 'listed_in' to list"
   ]
  },
  {
   "cell_type": "code",
   "execution_count": 260,
   "id": "ccf24886",
   "metadata": {},
   "outputs": [],
   "source": [
    "netflix_movies[\"cast\"] = netflix_movies[\"cast\"].str.split(\",\")\n",
    "netflix_movies[\"cast\"] = netflix_movies[\"cast\"].apply(lambda x: [item.strip() for item in x if item.strip() != ''])"
   ]
  },
  {
   "cell_type": "code",
   "execution_count": 261,
   "id": "6eb57bae",
   "metadata": {},
   "outputs": [],
   "source": [
    "netflix_movies[\"listed_in\"] = netflix_movies[\"listed_in\"].str.split(\",\")\n",
    "netflix_movies[\"listed_in\"] = netflix_movies[\"listed_in\"].apply(lambda x: [item.strip() for item in x])"
   ]
  },
  {
   "cell_type": "code",
   "execution_count": 262,
   "id": "870fb4fc",
   "metadata": {},
   "outputs": [
    {
     "data": {
      "text/html": [
       "<div>\n",
       "<style scoped>\n",
       "    .dataframe tbody tr th:only-of-type {\n",
       "        vertical-align: middle;\n",
       "    }\n",
       "\n",
       "    .dataframe tbody tr th {\n",
       "        vertical-align: top;\n",
       "    }\n",
       "\n",
       "    .dataframe thead th {\n",
       "        text-align: right;\n",
       "    }\n",
       "</style>\n",
       "<table border=\"1\" class=\"dataframe\">\n",
       "  <thead>\n",
       "    <tr style=\"text-align: right;\">\n",
       "      <th></th>\n",
       "      <th>type</th>\n",
       "      <th>title</th>\n",
       "      <th>director</th>\n",
       "      <th>cast</th>\n",
       "      <th>country</th>\n",
       "      <th>date_added</th>\n",
       "      <th>release_year</th>\n",
       "      <th>rating</th>\n",
       "      <th>duration</th>\n",
       "      <th>listed_in</th>\n",
       "      <th>description</th>\n",
       "    </tr>\n",
       "    <tr>\n",
       "      <th>show_id</th>\n",
       "      <th></th>\n",
       "      <th></th>\n",
       "      <th></th>\n",
       "      <th></th>\n",
       "      <th></th>\n",
       "      <th></th>\n",
       "      <th></th>\n",
       "      <th></th>\n",
       "      <th></th>\n",
       "      <th></th>\n",
       "      <th></th>\n",
       "    </tr>\n",
       "  </thead>\n",
       "  <tbody>\n",
       "    <tr>\n",
       "      <th>s1</th>\n",
       "      <td>Movie</td>\n",
       "      <td>Dick Johnson Is Dead</td>\n",
       "      <td>Kirsten Johnson</td>\n",
       "      <td>[No data]</td>\n",
       "      <td>United States</td>\n",
       "      <td>September 25, 2021</td>\n",
       "      <td>2020</td>\n",
       "      <td>PG-13</td>\n",
       "      <td>90 min</td>\n",
       "      <td>[Documentaries]</td>\n",
       "      <td>As her father nears the end of his life, filmm...</td>\n",
       "    </tr>\n",
       "    <tr>\n",
       "      <th>s2</th>\n",
       "      <td>TV Show</td>\n",
       "      <td>Blood &amp; Water</td>\n",
       "      <td>No data</td>\n",
       "      <td>[Ama Qamata, Khosi Ngema, Gail Mabalane, Thaba...</td>\n",
       "      <td>South Africa</td>\n",
       "      <td>September 24, 2021</td>\n",
       "      <td>2021</td>\n",
       "      <td>TV-MA</td>\n",
       "      <td>2 Seasons</td>\n",
       "      <td>[International TV Shows, TV Dramas, TV Mysteries]</td>\n",
       "      <td>After crossing paths at a party, a Cape Town t...</td>\n",
       "    </tr>\n",
       "    <tr>\n",
       "      <th>s3</th>\n",
       "      <td>TV Show</td>\n",
       "      <td>Ganglands</td>\n",
       "      <td>Julien Leclercq</td>\n",
       "      <td>[Sami Bouajila, Tracy Gotoas, Samuel Jouy, Nab...</td>\n",
       "      <td>No data</td>\n",
       "      <td>September 24, 2021</td>\n",
       "      <td>2021</td>\n",
       "      <td>TV-MA</td>\n",
       "      <td>1 Season</td>\n",
       "      <td>[Crime TV Shows, International TV Shows, TV Ac...</td>\n",
       "      <td>To protect his family from a powerful drug lor...</td>\n",
       "    </tr>\n",
       "    <tr>\n",
       "      <th>s4</th>\n",
       "      <td>TV Show</td>\n",
       "      <td>Jailbirds New Orleans</td>\n",
       "      <td>No data</td>\n",
       "      <td>[No data]</td>\n",
       "      <td>No data</td>\n",
       "      <td>September 24, 2021</td>\n",
       "      <td>2021</td>\n",
       "      <td>TV-MA</td>\n",
       "      <td>1 Season</td>\n",
       "      <td>[Docuseries, Reality TV]</td>\n",
       "      <td>Feuds, flirtations and toilet talk go down amo...</td>\n",
       "    </tr>\n",
       "    <tr>\n",
       "      <th>s5</th>\n",
       "      <td>TV Show</td>\n",
       "      <td>Kota Factory</td>\n",
       "      <td>No data</td>\n",
       "      <td>[Mayur More, Jitendra Kumar, Ranjan Raj, Alam ...</td>\n",
       "      <td>India</td>\n",
       "      <td>September 24, 2021</td>\n",
       "      <td>2021</td>\n",
       "      <td>TV-MA</td>\n",
       "      <td>2 Seasons</td>\n",
       "      <td>[International TV Shows, Romantic TV Shows, TV...</td>\n",
       "      <td>In a city of coaching centers known to train I...</td>\n",
       "    </tr>\n",
       "  </tbody>\n",
       "</table>\n",
       "</div>"
      ],
      "text/plain": [
       "            type                  title         director  \\\n",
       "show_id                                                    \n",
       "s1         Movie   Dick Johnson Is Dead  Kirsten Johnson   \n",
       "s2       TV Show          Blood & Water          No data   \n",
       "s3       TV Show              Ganglands  Julien Leclercq   \n",
       "s4       TV Show  Jailbirds New Orleans          No data   \n",
       "s5       TV Show           Kota Factory          No data   \n",
       "\n",
       "                                                      cast        country  \\\n",
       "show_id                                                                     \n",
       "s1                                               [No data]  United States   \n",
       "s2       [Ama Qamata, Khosi Ngema, Gail Mabalane, Thaba...   South Africa   \n",
       "s3       [Sami Bouajila, Tracy Gotoas, Samuel Jouy, Nab...        No data   \n",
       "s4                                               [No data]        No data   \n",
       "s5       [Mayur More, Jitendra Kumar, Ranjan Raj, Alam ...          India   \n",
       "\n",
       "                 date_added  release_year rating   duration  \\\n",
       "show_id                                                       \n",
       "s1       September 25, 2021          2020  PG-13     90 min   \n",
       "s2       September 24, 2021          2021  TV-MA  2 Seasons   \n",
       "s3       September 24, 2021          2021  TV-MA   1 Season   \n",
       "s4       September 24, 2021          2021  TV-MA   1 Season   \n",
       "s5       September 24, 2021          2021  TV-MA  2 Seasons   \n",
       "\n",
       "                                                 listed_in  \\\n",
       "show_id                                                      \n",
       "s1                                         [Documentaries]   \n",
       "s2       [International TV Shows, TV Dramas, TV Mysteries]   \n",
       "s3       [Crime TV Shows, International TV Shows, TV Ac...   \n",
       "s4                                [Docuseries, Reality TV]   \n",
       "s5       [International TV Shows, Romantic TV Shows, TV...   \n",
       "\n",
       "                                               description  \n",
       "show_id                                                     \n",
       "s1       As her father nears the end of his life, filmm...  \n",
       "s2       After crossing paths at a party, a Cape Town t...  \n",
       "s3       To protect his family from a powerful drug lor...  \n",
       "s4       Feuds, flirtations and toilet talk go down amo...  \n",
       "s5       In a city of coaching centers known to train I...  "
      ]
     },
     "execution_count": 262,
     "metadata": {},
     "output_type": "execute_result"
    }
   ],
   "source": [
    "netflix_movies.head()"
   ]
  },
  {
   "cell_type": "markdown",
   "id": "350d49a2",
   "metadata": {},
   "source": [
    "##### Convert 'date_added' to datetime "
   ]
  },
  {
   "cell_type": "code",
   "execution_count": 263,
   "id": "635e1bcd",
   "metadata": {},
   "outputs": [
    {
     "name": "stdout",
     "output_type": "stream",
     "text": [
      "show_id\n",
      "s1      2021-09-25\n",
      "s2      2021-09-24\n",
      "s3      2021-09-24\n",
      "s4      2021-09-24\n",
      "s5      2021-09-24\n",
      "           ...    \n",
      "s8805   2019-11-01\n",
      "s8806   2020-01-11\n",
      "s8807   2019-03-02\n",
      "s8808   2024-04-05\n",
      "s8809   2024-04-05\n",
      "Name: date_added, Length: 8792, dtype: datetime64[ns]\n"
     ]
    }
   ],
   "source": [
    "netflix_movies['date_added'] = netflix_movies['date_added'].str.strip()\n",
    "netflix_movies['date_added'] = pd.to_datetime(netflix_movies['date_added'], errors='coerce')\n",
    "print(netflix_movies['date_added'])"
   ]
  },
  {
   "cell_type": "markdown",
   "id": "66657a21",
   "metadata": {},
   "source": [
    "##### Seperating duration of films and TV series\n",
    "- movies: minutes\n",
    "- tv show: seasons"
   ]
  },
  {
   "cell_type": "code",
   "execution_count": 264,
   "id": "f1245dbe",
   "metadata": {},
   "outputs": [
    {
     "data": {
      "text/html": [
       "<div>\n",
       "<style scoped>\n",
       "    .dataframe tbody tr th:only-of-type {\n",
       "        vertical-align: middle;\n",
       "    }\n",
       "\n",
       "    .dataframe tbody tr th {\n",
       "        vertical-align: top;\n",
       "    }\n",
       "\n",
       "    .dataframe thead th {\n",
       "        text-align: right;\n",
       "    }\n",
       "</style>\n",
       "<table border=\"1\" class=\"dataframe\">\n",
       "  <thead>\n",
       "    <tr style=\"text-align: right;\">\n",
       "      <th></th>\n",
       "      <th>type</th>\n",
       "      <th>title</th>\n",
       "      <th>director</th>\n",
       "      <th>cast</th>\n",
       "      <th>country</th>\n",
       "      <th>date_added</th>\n",
       "      <th>release_year</th>\n",
       "      <th>rating</th>\n",
       "      <th>duration_seasons</th>\n",
       "      <th>listed_in</th>\n",
       "      <th>description</th>\n",
       "      <th>duration_minutes</th>\n",
       "    </tr>\n",
       "    <tr>\n",
       "      <th>show_id</th>\n",
       "      <th></th>\n",
       "      <th></th>\n",
       "      <th></th>\n",
       "      <th></th>\n",
       "      <th></th>\n",
       "      <th></th>\n",
       "      <th></th>\n",
       "      <th></th>\n",
       "      <th></th>\n",
       "      <th></th>\n",
       "      <th></th>\n",
       "      <th></th>\n",
       "    </tr>\n",
       "  </thead>\n",
       "  <tbody>\n",
       "    <tr>\n",
       "      <th>s1</th>\n",
       "      <td>Movie</td>\n",
       "      <td>Dick Johnson Is Dead</td>\n",
       "      <td>Kirsten Johnson</td>\n",
       "      <td>[No data]</td>\n",
       "      <td>United States</td>\n",
       "      <td>2021-09-25</td>\n",
       "      <td>2020</td>\n",
       "      <td>PG-13</td>\n",
       "      <td>NaN</td>\n",
       "      <td>[Documentaries]</td>\n",
       "      <td>As her father nears the end of his life, filmm...</td>\n",
       "      <td>90.0</td>\n",
       "    </tr>\n",
       "    <tr>\n",
       "      <th>s2</th>\n",
       "      <td>TV Show</td>\n",
       "      <td>Blood &amp; Water</td>\n",
       "      <td>No data</td>\n",
       "      <td>[Ama Qamata, Khosi Ngema, Gail Mabalane, Thaba...</td>\n",
       "      <td>South Africa</td>\n",
       "      <td>2021-09-24</td>\n",
       "      <td>2021</td>\n",
       "      <td>TV-MA</td>\n",
       "      <td>2.0</td>\n",
       "      <td>[International TV Shows, TV Dramas, TV Mysteries]</td>\n",
       "      <td>After crossing paths at a party, a Cape Town t...</td>\n",
       "      <td>NaN</td>\n",
       "    </tr>\n",
       "    <tr>\n",
       "      <th>s3</th>\n",
       "      <td>TV Show</td>\n",
       "      <td>Ganglands</td>\n",
       "      <td>Julien Leclercq</td>\n",
       "      <td>[Sami Bouajila, Tracy Gotoas, Samuel Jouy, Nab...</td>\n",
       "      <td>No data</td>\n",
       "      <td>2021-09-24</td>\n",
       "      <td>2021</td>\n",
       "      <td>TV-MA</td>\n",
       "      <td>1.0</td>\n",
       "      <td>[Crime TV Shows, International TV Shows, TV Ac...</td>\n",
       "      <td>To protect his family from a powerful drug lor...</td>\n",
       "      <td>NaN</td>\n",
       "    </tr>\n",
       "    <tr>\n",
       "      <th>s4</th>\n",
       "      <td>TV Show</td>\n",
       "      <td>Jailbirds New Orleans</td>\n",
       "      <td>No data</td>\n",
       "      <td>[No data]</td>\n",
       "      <td>No data</td>\n",
       "      <td>2021-09-24</td>\n",
       "      <td>2021</td>\n",
       "      <td>TV-MA</td>\n",
       "      <td>1.0</td>\n",
       "      <td>[Docuseries, Reality TV]</td>\n",
       "      <td>Feuds, flirtations and toilet talk go down amo...</td>\n",
       "      <td>NaN</td>\n",
       "    </tr>\n",
       "    <tr>\n",
       "      <th>s5</th>\n",
       "      <td>TV Show</td>\n",
       "      <td>Kota Factory</td>\n",
       "      <td>No data</td>\n",
       "      <td>[Mayur More, Jitendra Kumar, Ranjan Raj, Alam ...</td>\n",
       "      <td>India</td>\n",
       "      <td>2021-09-24</td>\n",
       "      <td>2021</td>\n",
       "      <td>TV-MA</td>\n",
       "      <td>2.0</td>\n",
       "      <td>[International TV Shows, Romantic TV Shows, TV...</td>\n",
       "      <td>In a city of coaching centers known to train I...</td>\n",
       "      <td>NaN</td>\n",
       "    </tr>\n",
       "  </tbody>\n",
       "</table>\n",
       "</div>"
      ],
      "text/plain": [
       "            type                  title         director  \\\n",
       "show_id                                                    \n",
       "s1         Movie   Dick Johnson Is Dead  Kirsten Johnson   \n",
       "s2       TV Show          Blood & Water          No data   \n",
       "s3       TV Show              Ganglands  Julien Leclercq   \n",
       "s4       TV Show  Jailbirds New Orleans          No data   \n",
       "s5       TV Show           Kota Factory          No data   \n",
       "\n",
       "                                                      cast        country  \\\n",
       "show_id                                                                     \n",
       "s1                                               [No data]  United States   \n",
       "s2       [Ama Qamata, Khosi Ngema, Gail Mabalane, Thaba...   South Africa   \n",
       "s3       [Sami Bouajila, Tracy Gotoas, Samuel Jouy, Nab...        No data   \n",
       "s4                                               [No data]        No data   \n",
       "s5       [Mayur More, Jitendra Kumar, Ranjan Raj, Alam ...          India   \n",
       "\n",
       "        date_added  release_year rating  duration_seasons  \\\n",
       "show_id                                                     \n",
       "s1      2021-09-25          2020  PG-13               NaN   \n",
       "s2      2021-09-24          2021  TV-MA               2.0   \n",
       "s3      2021-09-24          2021  TV-MA               1.0   \n",
       "s4      2021-09-24          2021  TV-MA               1.0   \n",
       "s5      2021-09-24          2021  TV-MA               2.0   \n",
       "\n",
       "                                                 listed_in  \\\n",
       "show_id                                                      \n",
       "s1                                         [Documentaries]   \n",
       "s2       [International TV Shows, TV Dramas, TV Mysteries]   \n",
       "s3       [Crime TV Shows, International TV Shows, TV Ac...   \n",
       "s4                                [Docuseries, Reality TV]   \n",
       "s5       [International TV Shows, Romantic TV Shows, TV...   \n",
       "\n",
       "                                               description  duration_minutes  \n",
       "show_id                                                                       \n",
       "s1       As her father nears the end of his life, filmm...              90.0  \n",
       "s2       After crossing paths at a party, a Cape Town t...               NaN  \n",
       "s3       To protect his family from a powerful drug lor...               NaN  \n",
       "s4       Feuds, flirtations and toilet talk go down amo...               NaN  \n",
       "s5       In a city of coaching centers known to train I...               NaN  "
      ]
     },
     "execution_count": 264,
     "metadata": {},
     "output_type": "execute_result"
    }
   ],
   "source": [
    "duration_minutes_column = []\n",
    "duration_seasons_column = []\n",
    "\n",
    "for time in netflix_movies['duration']:\n",
    "    if time.find('Season') == -1:\n",
    "        new_time = re.sub('[ min]', '', time)\n",
    "        duration_minutes_column.append(int(new_time))\n",
    "        duration_seasons_column.append(None)\n",
    "    else:\n",
    "        new_time = re.sub('[ Season]', '', time)\n",
    "        duration_minutes_column.append(None)\n",
    "        duration_seasons_column.append(int(new_time))\n",
    "\n",
    "netflix_movies.rename(columns={'duration':'duration_seasons'}, inplace=True)\n",
    "netflix_movies['duration_seasons'] = duration_seasons_column\n",
    "netflix_movies['duration_minutes'] = duration_minutes_column\n",
    "netflix_movies.head()"
   ]
  },
  {
   "cell_type": "markdown",
   "id": "5b24a3b1",
   "metadata": {},
   "source": [
    "### Dataset after cleaning"
   ]
  },
  {
   "cell_type": "code",
   "execution_count": 265,
   "id": "3e67fc3b",
   "metadata": {},
   "outputs": [
    {
     "data": {
      "text/html": [
       "<div>\n",
       "<style scoped>\n",
       "    .dataframe tbody tr th:only-of-type {\n",
       "        vertical-align: middle;\n",
       "    }\n",
       "\n",
       "    .dataframe tbody tr th {\n",
       "        vertical-align: top;\n",
       "    }\n",
       "\n",
       "    .dataframe thead th {\n",
       "        text-align: right;\n",
       "    }\n",
       "</style>\n",
       "<table border=\"1\" class=\"dataframe\">\n",
       "  <thead>\n",
       "    <tr style=\"text-align: right;\">\n",
       "      <th></th>\n",
       "      <th>type</th>\n",
       "      <th>title</th>\n",
       "      <th>director</th>\n",
       "      <th>cast</th>\n",
       "      <th>country</th>\n",
       "      <th>date_added</th>\n",
       "      <th>release_year</th>\n",
       "      <th>rating</th>\n",
       "      <th>duration_seasons</th>\n",
       "      <th>listed_in</th>\n",
       "      <th>description</th>\n",
       "      <th>duration_minutes</th>\n",
       "    </tr>\n",
       "    <tr>\n",
       "      <th>show_id</th>\n",
       "      <th></th>\n",
       "      <th></th>\n",
       "      <th></th>\n",
       "      <th></th>\n",
       "      <th></th>\n",
       "      <th></th>\n",
       "      <th></th>\n",
       "      <th></th>\n",
       "      <th></th>\n",
       "      <th></th>\n",
       "      <th></th>\n",
       "      <th></th>\n",
       "    </tr>\n",
       "  </thead>\n",
       "  <tbody>\n",
       "    <tr>\n",
       "      <th>s1</th>\n",
       "      <td>Movie</td>\n",
       "      <td>Dick Johnson Is Dead</td>\n",
       "      <td>Kirsten Johnson</td>\n",
       "      <td>[No data]</td>\n",
       "      <td>United States</td>\n",
       "      <td>2021-09-25</td>\n",
       "      <td>2020</td>\n",
       "      <td>PG-13</td>\n",
       "      <td>NaN</td>\n",
       "      <td>[Documentaries]</td>\n",
       "      <td>As her father nears the end of his life, filmm...</td>\n",
       "      <td>90.0</td>\n",
       "    </tr>\n",
       "    <tr>\n",
       "      <th>s2</th>\n",
       "      <td>TV Show</td>\n",
       "      <td>Blood &amp; Water</td>\n",
       "      <td>No data</td>\n",
       "      <td>[Ama Qamata, Khosi Ngema, Gail Mabalane, Thaba...</td>\n",
       "      <td>South Africa</td>\n",
       "      <td>2021-09-24</td>\n",
       "      <td>2021</td>\n",
       "      <td>TV-MA</td>\n",
       "      <td>2.0</td>\n",
       "      <td>[International TV Shows, TV Dramas, TV Mysteries]</td>\n",
       "      <td>After crossing paths at a party, a Cape Town t...</td>\n",
       "      <td>NaN</td>\n",
       "    </tr>\n",
       "    <tr>\n",
       "      <th>s3</th>\n",
       "      <td>TV Show</td>\n",
       "      <td>Ganglands</td>\n",
       "      <td>Julien Leclercq</td>\n",
       "      <td>[Sami Bouajila, Tracy Gotoas, Samuel Jouy, Nab...</td>\n",
       "      <td>No data</td>\n",
       "      <td>2021-09-24</td>\n",
       "      <td>2021</td>\n",
       "      <td>TV-MA</td>\n",
       "      <td>1.0</td>\n",
       "      <td>[Crime TV Shows, International TV Shows, TV Ac...</td>\n",
       "      <td>To protect his family from a powerful drug lor...</td>\n",
       "      <td>NaN</td>\n",
       "    </tr>\n",
       "    <tr>\n",
       "      <th>s4</th>\n",
       "      <td>TV Show</td>\n",
       "      <td>Jailbirds New Orleans</td>\n",
       "      <td>No data</td>\n",
       "      <td>[No data]</td>\n",
       "      <td>No data</td>\n",
       "      <td>2021-09-24</td>\n",
       "      <td>2021</td>\n",
       "      <td>TV-MA</td>\n",
       "      <td>1.0</td>\n",
       "      <td>[Docuseries, Reality TV]</td>\n",
       "      <td>Feuds, flirtations and toilet talk go down amo...</td>\n",
       "      <td>NaN</td>\n",
       "    </tr>\n",
       "    <tr>\n",
       "      <th>s5</th>\n",
       "      <td>TV Show</td>\n",
       "      <td>Kota Factory</td>\n",
       "      <td>No data</td>\n",
       "      <td>[Mayur More, Jitendra Kumar, Ranjan Raj, Alam ...</td>\n",
       "      <td>India</td>\n",
       "      <td>2021-09-24</td>\n",
       "      <td>2021</td>\n",
       "      <td>TV-MA</td>\n",
       "      <td>2.0</td>\n",
       "      <td>[International TV Shows, Romantic TV Shows, TV...</td>\n",
       "      <td>In a city of coaching centers known to train I...</td>\n",
       "      <td>NaN</td>\n",
       "    </tr>\n",
       "  </tbody>\n",
       "</table>\n",
       "</div>"
      ],
      "text/plain": [
       "            type                  title         director  \\\n",
       "show_id                                                    \n",
       "s1         Movie   Dick Johnson Is Dead  Kirsten Johnson   \n",
       "s2       TV Show          Blood & Water          No data   \n",
       "s3       TV Show              Ganglands  Julien Leclercq   \n",
       "s4       TV Show  Jailbirds New Orleans          No data   \n",
       "s5       TV Show           Kota Factory          No data   \n",
       "\n",
       "                                                      cast        country  \\\n",
       "show_id                                                                     \n",
       "s1                                               [No data]  United States   \n",
       "s2       [Ama Qamata, Khosi Ngema, Gail Mabalane, Thaba...   South Africa   \n",
       "s3       [Sami Bouajila, Tracy Gotoas, Samuel Jouy, Nab...        No data   \n",
       "s4                                               [No data]        No data   \n",
       "s5       [Mayur More, Jitendra Kumar, Ranjan Raj, Alam ...          India   \n",
       "\n",
       "        date_added  release_year rating  duration_seasons  \\\n",
       "show_id                                                     \n",
       "s1      2021-09-25          2020  PG-13               NaN   \n",
       "s2      2021-09-24          2021  TV-MA               2.0   \n",
       "s3      2021-09-24          2021  TV-MA               1.0   \n",
       "s4      2021-09-24          2021  TV-MA               1.0   \n",
       "s5      2021-09-24          2021  TV-MA               2.0   \n",
       "\n",
       "                                                 listed_in  \\\n",
       "show_id                                                      \n",
       "s1                                         [Documentaries]   \n",
       "s2       [International TV Shows, TV Dramas, TV Mysteries]   \n",
       "s3       [Crime TV Shows, International TV Shows, TV Ac...   \n",
       "s4                                [Docuseries, Reality TV]   \n",
       "s5       [International TV Shows, Romantic TV Shows, TV...   \n",
       "\n",
       "                                               description  duration_minutes  \n",
       "show_id                                                                       \n",
       "s1       As her father nears the end of his life, filmm...              90.0  \n",
       "s2       After crossing paths at a party, a Cape Town t...               NaN  \n",
       "s3       To protect his family from a powerful drug lor...               NaN  \n",
       "s4       Feuds, flirtations and toilet talk go down amo...               NaN  \n",
       "s5       In a city of coaching centers known to train I...               NaN  "
      ]
     },
     "execution_count": 265,
     "metadata": {},
     "output_type": "execute_result"
    }
   ],
   "source": [
    "netflix_movies.head()"
   ]
  },
  {
   "cell_type": "code",
   "execution_count": 266,
   "id": "a53e5778",
   "metadata": {},
   "outputs": [
    {
     "name": "stdout",
     "output_type": "stream",
     "text": [
      "<class 'pandas.core.frame.DataFrame'>\n",
      "Index: 8792 entries, s1 to s8809\n",
      "Data columns (total 12 columns):\n",
      " #   Column            Non-Null Count  Dtype         \n",
      "---  ------            --------------  -----         \n",
      " 0   type              8792 non-null   object        \n",
      " 1   title             8792 non-null   object        \n",
      " 2   director          8792 non-null   object        \n",
      " 3   cast              8792 non-null   object        \n",
      " 4   country           8792 non-null   object        \n",
      " 5   date_added        8792 non-null   datetime64[ns]\n",
      " 6   release_year      8792 non-null   int64         \n",
      " 7   rating            8792 non-null   object        \n",
      " 8   duration_seasons  2665 non-null   float64       \n",
      " 9   listed_in         8792 non-null   object        \n",
      " 10  description       8792 non-null   object        \n",
      " 11  duration_minutes  6127 non-null   float64       \n",
      "dtypes: datetime64[ns](1), float64(2), int64(1), object(8)\n",
      "memory usage: 892.9+ KB\n"
     ]
    }
   ],
   "source": [
    "netflix_movies.info()"
   ]
  },
  {
   "cell_type": "code",
   "execution_count": 267,
   "id": "76207f67",
   "metadata": {},
   "outputs": [
    {
     "name": "stdout",
     "output_type": "stream",
     "text": [
      "Number of null values in each column:\n",
      "type                   0\n",
      "title                  0\n",
      "director               0\n",
      "cast                   0\n",
      "country                0\n",
      "date_added             0\n",
      "release_year           0\n",
      "rating                 0\n",
      "duration_seasons    6127\n",
      "listed_in              0\n",
      "description            0\n",
      "duration_minutes    2665\n",
      "dtype: int64\n"
     ]
    }
   ],
   "source": [
    "null_counts = netflix_movies.isnull().sum()\n",
    "print(\"Number of null values in each column:\\n{}\".format(null_counts))"
   ]
  },
  {
   "cell_type": "markdown",
   "id": "49207757",
   "metadata": {},
   "source": [
    "## Feature engineering"
   ]
  },
  {
   "cell_type": "markdown",
   "id": "46b55094",
   "metadata": {},
   "source": [
    "### Adding columns for more data"
   ]
  },
  {
   "cell_type": "markdown",
   "id": "64279a54",
   "metadata": {},
   "source": [
    "##### How old is the Movie"
   ]
  },
  {
   "cell_type": "code",
   "execution_count": 268,
   "id": "93f1a44b",
   "metadata": {},
   "outputs": [
    {
     "data": {
      "text/plain": [
       "show_id\n",
       "s1        4\n",
       "s2        3\n",
       "s3        3\n",
       "s4        3\n",
       "s5        3\n",
       "         ..\n",
       "s8805    15\n",
       "s8806    18\n",
       "s8807     9\n",
       "s8808     0\n",
       "s8809    10\n",
       "Name: how_old, Length: 8792, dtype: int64"
      ]
     },
     "execution_count": 268,
     "metadata": {},
     "output_type": "execute_result"
    }
   ],
   "source": [
    "current_year = datetime.now().year\n",
    "netflix_movies['how_old'] = (int(current_year)-netflix_movies['release_year'])\n",
    "\n",
    "netflix_movies['how_old']"
   ]
  },
  {
   "cell_type": "markdown",
   "id": "6776bf5e",
   "metadata": {},
   "source": [
    "##### Difference betweeen year released and year added"
   ]
  },
  {
   "cell_type": "code",
   "execution_count": 269,
   "id": "6aa87996",
   "metadata": {},
   "outputs": [
    {
     "data": {
      "text/plain": [
       "show_id\n",
       "s1        1\n",
       "s2        0\n",
       "s3        0\n",
       "s4        0\n",
       "s5        0\n",
       "         ..\n",
       "s8805    10\n",
       "s8806    14\n",
       "s8807     4\n",
       "s8808     0\n",
       "s8809    10\n",
       "Name: added_delay, Length: 8792, dtype: int64"
      ]
     },
     "execution_count": 269,
     "metadata": {},
     "output_type": "execute_result"
    }
   ],
   "source": [
    "netflix_movies['added_delay'] = (pd.to_datetime(netflix_movies['date_added'], errors='coerce').dt.year-netflix_movies['release_year'])\n",
    "\n",
    "netflix_movies['added_delay']"
   ]
  },
  {
   "cell_type": "markdown",
   "id": "123dc54d",
   "metadata": {},
   "source": [
    "## Analysis"
   ]
  },
  {
   "cell_type": "code",
   "execution_count": 270,
   "id": "95202b58",
   "metadata": {},
   "outputs": [
    {
     "data": {
      "image/png": "[encoded data removed]",
      "text/plain": [
       "<Figure size 1200x600 with 1 Axes>"
      ]
     },
     "metadata": {},
     "output_type": "display_data"
    }
   ],
   "source": [
    "# Count the number of occurrences for each country\n",
    "country_counts = netflix_movies['country'].explode().value_counts()\n",
    "\n",
    "# Calculate the total number of records\n",
    "total_records = netflix_movies.shape[0]\n",
    "\n",
    "# Filter the countries with more than 2% of all records\n",
    "top_countries = country_counts[country_counts / total_records > 0.02].index\n",
    "\n",
    "# Create a bar chart for the top countries\n",
    "plt.figure(figsize=(12, 6))\n",
    "country_counts[top_countries].plot(kind='bar')\n",
    "plt.title('Country Counts (> 2% of all records)')\n",
    "plt.xlabel('Country')\n",
    "plt.ylabel('Count')\n",
    "plt.xticks(rotation=90)\n",
    "plt.tight_layout()\n",
    "plt.show()"
   ]
  },
  {
   "cell_type": "code",
   "execution_count": 271,
   "id": "1b250336",
   "metadata": {},
   "outputs": [
    {
     "data": {
      "image/png": "[encoded data removed]",
      "text/plain": [
       "<Figure size 1200x600 with 1 Axes>"
      ]
     },
     "metadata": {},
     "output_type": "display_data"
    }
   ],
   "source": [
    "# Count the number of occurrences for each genre\n",
    "genre_counts = netflix_movies['listed_in'].explode().value_counts()\n",
    "\n",
    "# Calculate the total number of records\n",
    "total_records = netflix_movies.shape[0]\n",
    "\n",
    "# Filter the genres with more than 2% of all records\n",
    "top_genres = genre_counts[genre_counts / total_records > 0.02].index\n",
    "\n",
    "# Create a bar chart for the top genres\n",
    "plt.figure(figsize=(12, 6))\n",
    "genre_counts[top_genres].plot(kind='bar')\n",
    "plt.title('Genre Counts (> 2% of all records)')\n",
    "plt.xlabel('Genre')\n",
    "plt.ylabel('Count')\n",
    "plt.xticks(rotation=90)\n",
    "plt.tight_layout()\n",
    "plt.show()"
   ]
  },
  {
   "cell_type": "code",
   "execution_count": 272,
   "id": "015da290",
   "metadata": {},
   "outputs": [
    {
     "data": {
      "image/png": "[encoded data removed]",
      "text/plain": [
       "<Figure size 1200x600 with 1 Axes>"
      ]
     },
     "metadata": {},
     "output_type": "display_data"
    }
   ],
   "source": [
    "# Count the number of occurrences for each genre\n",
    "actor_counts = netflix_movies['cast'].explode().value_counts()\n",
    "actor_counts = actor_counts[actor_counts.index != 'No data']\n",
    "\n",
    "top_actors = actor_counts.head(5)\n",
    "\n",
    "# Create a bar plot for the top 5 actors\n",
    "top_actors.plot(kind='bar', figsize=(12, 6))\n",
    "plt.title('Top 5 Actors Appearing In Most Movies')\n",
    "plt.xlabel('Actor')\n",
    "plt.ylabel('Count')\n",
    "plt.xticks(rotation=90)\n",
    "plt.tight_layout()\n",
    "plt.show()"
   ]
  },
  {
   "cell_type": "code",
   "execution_count": 273,
   "id": "6af5eab6",
   "metadata": {},
   "outputs": [
    {
     "data": {
      "image/png": "[encoded data removed]",
      "text/plain": [
       "<Figure size 1200x600 with 1 Axes>"
      ]
     },
     "metadata": {},
     "output_type": "display_data"
    }
   ],
   "source": [
    "# Count the occurrences of each 'type' value\n",
    "type_counts = netflix_movies['type'].value_counts()\n",
    "\n",
    "# Create a bar chart\n",
    "plt.figure(figsize=(12, 6))\n",
    "type_counts.plot(kind='bar')\n",
    "plt.title('Distribution of Movie/TV Show Types')\n",
    "plt.xlabel('Type')\n",
    "plt.ylabel('Count')\n",
    "plt.xticks(rotation=90)\n",
    "plt.tight_layout()\n",
    "plt.show()"
   ]
  },
  {
   "cell_type": "code",
   "execution_count": 274,
   "id": "12ec650c",
   "metadata": {},
   "outputs": [
    {
     "data": {
      "image/png": "[encoded data removed]",
      "text/plain": [
       "<Figure size 1200x600 with 1 Axes>"
      ]
     },
     "metadata": {},
     "output_type": "display_data"
    }
   ],
   "source": [
    "# Count the occurrences of each 'type' value\n",
    "rating_counts = netflix_movies['rating'].value_counts()\n",
    "\n",
    "# Create a bar chart\n",
    "plt.figure(figsize=(12, 6))\n",
    "rating_counts.plot(kind='bar')\n",
    "plt.title('Distribution of Rating Types')\n",
    "plt.xlabel('Type')\n",
    "plt.ylabel('Count')\n",
    "plt.xticks(rotation=90)\n",
    "plt.tight_layout()\n",
    "plt.show()"
   ]
  }
 ],
 "metadata": {
  "kernelspec": {
   "display_name": "Python 3 (ipykernel)",
   "language": "python",
   "name": "python3"
  },
  "language_info": {
   "codemirror_mode": {
    "name": "ipython",
    "version": 3
   },
   "file_extension": ".py",
   "mimetype": "text/x-python",
   "name": "python",
   "nbconvert_exporter": "python",
   "pygments_lexer": "ipython3",
   "version": "3.12.2"
  }
 },
 "nbformat": 4,
 "nbformat_minor": 5
}
