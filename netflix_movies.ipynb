{
 "cells": [
  {
   "cell_type": "markdown",
   "id": "580ace18",
   "metadata": {},
   "source": [
    "# Netflix Movies analysis project\n",
    "\n",
    "## Target of project\n",
    "- Practice using libraries like pandas, matplotlib\n",
    "- Practice explaining targeted problems\n",
    "- Practice visualization\n",
    "\n",
    "## Data\n",
    "Data I used comes from a website called \"Kaggle\" which is a data science community with resources\n",
    "The file i used can be found at link: https://www.kaggle.com/datasets/rahulvyasm/netflix-movies-and-tv-shows\n",
    "\n",
    "## Data description:\n",
    "- show_id: A unique identifier for each title.\n",
    "- type: The category of the title, which is either 'Movie' or 'TV Show'.\n",
    "- title: The name of the movie or TV show.\n",
    "- director: The director(s) of the movie or TV show. (Contains null values for some entries, especially TV shows where this information might not be applicable.)\n",
    "cast: The list of main actors/actresses in the title. (Some entries might not have this information.)\n",
    "- country: The country or countries where the movie or TV show was produced.\n",
    "- date_added: The date the title was added to Netflix.\n",
    "- release_year: The year the movie or TV show was originally released.\n",
    "- rating: The age rating of the title.\n",
    "- duration: The duration of the title, in minutes for movies and seasons for TV shows.\n",
    "- listed_in: The genres the title falls under.\n",
    "- description: A brief summary of the title.\n"
   ]
  },
  {
   "cell_type": "markdown",
   "id": "d3842ff2",
   "metadata": {},
   "source": [
    "### Importing libraries"
   ]
  },
  {
   "cell_type": "code",
   "execution_count": 3,
   "id": "24cfb190",
   "metadata": {},
   "outputs": [],
   "source": [
    "import pandas as pd\n",
    "import matplotlib.pyplot as plt\n",
    "import seaborn as sns"
   ]
  },
  {
   "cell_type": "markdown",
   "id": "17f3d0a8",
   "metadata": {},
   "source": [
    "### Loading data"
   ]
  },
  {
   "cell_type": "code",
   "execution_count": 4,
   "id": "a993eebb",
   "metadata": {},
   "outputs": [],
   "source": [
    "netflix_movies = pd.read_csv('data/netflix_titles.csv', delimiter=',', decimal='.', index_col=0, encoding='latin1')"
   ]
  },
  {
   "cell_type": "markdown",
   "id": "5d3435d5",
   "metadata": {},
   "source": [
    "### Data exploration"
   ]
  },
  {
   "cell_type": "code",
   "execution_count": 5,
   "id": "4df973f0",
   "metadata": {},
   "outputs": [
    {
     "name": "stdout",
     "output_type": "stream",
     "text": [
      "<class 'pandas.core.frame.DataFrame'>\n",
      "Index: 8809 entries, s1 to s8809\n",
      "Data columns (total 25 columns):\n",
      " #   Column        Non-Null Count  Dtype  \n",
      "---  ------        --------------  -----  \n",
      " 0   type          8809 non-null   object \n",
      " 1   title         8809 non-null   object \n",
      " 2   director      6175 non-null   object \n",
      " 3   cast          7984 non-null   object \n",
      " 4   country       7978 non-null   object \n",
      " 5   date_added    8799 non-null   object \n",
      " 6   release_year  8809 non-null   int64  \n",
      " 7   rating        8805 non-null   object \n",
      " 8   duration      8806 non-null   object \n",
      " 9   listed_in     8809 non-null   object \n",
      " 10  description   8809 non-null   object \n",
      " 11  Unnamed: 12   0 non-null      float64\n",
      " 12  Unnamed: 13   0 non-null      float64\n",
      " 13  Unnamed: 14   0 non-null      float64\n",
      " 14  Unnamed: 15   0 non-null      float64\n",
      " 15  Unnamed: 16   0 non-null      float64\n",
      " 16  Unnamed: 17   0 non-null      float64\n",
      " 17  Unnamed: 18   0 non-null      float64\n",
      " 18  Unnamed: 19   0 non-null      float64\n",
      " 19  Unnamed: 20   0 non-null      float64\n",
      " 20  Unnamed: 21   0 non-null      float64\n",
      " 21  Unnamed: 22   0 non-null      float64\n",
      " 22  Unnamed: 23   0 non-null      float64\n",
      " 23  Unnamed: 24   0 non-null      float64\n",
      " 24  Unnamed: 25   0 non-null      float64\n",
      "dtypes: float64(14), int64(1), object(10)\n",
      "memory usage: 1.7+ MB\n"
     ]
    }
   ],
   "source": [
    "netflix_movies.info()"
   ]
  },
  {
   "cell_type": "markdown",
   "id": "1b9bd888",
   "metadata": {},
   "source": [
    "### Data cleaning"
   ]
  },
  {
   "cell_type": "code",
   "execution_count": 6,
   "id": "182e4ae2",
   "metadata": {},
   "outputs": [],
   "source": [
    "# drop unnamed columns\n",
    "netflix_movies.drop(netflix_movies.columns[netflix_movies.columns.str.contains('unnamed', case=False)], axis=1, inplace=True)"
   ]
  },
  {
   "cell_type": "code",
   "execution_count": 7,
   "id": "c543a5ce",
   "metadata": {},
   "outputs": [
    {
     "name": "stdout",
     "output_type": "stream",
     "text": [
      "Number of null values in each column:\n",
      "type               0\n",
      "title              0\n",
      "director        2634\n",
      "cast             825\n",
      "country          831\n",
      "date_added        10\n",
      "release_year       0\n",
      "rating             4\n",
      "duration           3\n",
      "listed_in          0\n",
      "description        0\n",
      "dtype: int64\n"
     ]
    }
   ],
   "source": [
    "# null counts\n",
    "null_counts = netflix_movies.isnull().sum()\n",
    "print(\"Number of null values in each column:\\n{}\".format(null_counts))"
   ]
  },
  {
   "cell_type": "code",
   "execution_count": 8,
   "id": "51cb289e",
   "metadata": {},
   "outputs": [
    {
     "data": {
      "text/html": [
       "<div>\n",
       "<style scoped>\n",
       "    .dataframe tbody tr th:only-of-type {\n",
       "        vertical-align: middle;\n",
       "    }\n",
       "\n",
       "    .dataframe tbody tr th {\n",
       "        vertical-align: top;\n",
       "    }\n",
       "\n",
       "    .dataframe thead th {\n",
       "        text-align: right;\n",
       "    }\n",
       "</style>\n",
       "<table border=\"1\" class=\"dataframe\">\n",
       "  <thead>\n",
       "    <tr style=\"text-align: right;\">\n",
       "      <th></th>\n",
       "      <th>release_year</th>\n",
       "    </tr>\n",
       "  </thead>\n",
       "  <tbody>\n",
       "    <tr>\n",
       "      <th>count</th>\n",
       "      <td>8809.000000</td>\n",
       "    </tr>\n",
       "    <tr>\n",
       "      <th>mean</th>\n",
       "      <td>2014.181292</td>\n",
       "    </tr>\n",
       "    <tr>\n",
       "      <th>std</th>\n",
       "      <td>8.818932</td>\n",
       "    </tr>\n",
       "    <tr>\n",
       "      <th>min</th>\n",
       "      <td>1925.000000</td>\n",
       "    </tr>\n",
       "    <tr>\n",
       "      <th>25%</th>\n",
       "      <td>2013.000000</td>\n",
       "    </tr>\n",
       "    <tr>\n",
       "      <th>50%</th>\n",
       "      <td>2017.000000</td>\n",
       "    </tr>\n",
       "    <tr>\n",
       "      <th>75%</th>\n",
       "      <td>2019.000000</td>\n",
       "    </tr>\n",
       "    <tr>\n",
       "      <th>max</th>\n",
       "      <td>2024.000000</td>\n",
       "    </tr>\n",
       "  </tbody>\n",
       "</table>\n",
       "</div>"
      ],
      "text/plain": [
       "       release_year\n",
       "count   8809.000000\n",
       "mean    2014.181292\n",
       "std        8.818932\n",
       "min     1925.000000\n",
       "25%     2013.000000\n",
       "50%     2017.000000\n",
       "75%     2019.000000\n",
       "max     2024.000000"
      ]
     },
     "execution_count": 8,
     "metadata": {},
     "output_type": "execute_result"
    }
   ],
   "source": [
    "netflix_movies.describe()"
   ]
  },
  {
   "cell_type": "code",
   "execution_count": 9,
   "id": "68459606",
   "metadata": {},
   "outputs": [],
   "source": [
    "text_columns = netflix_movies.select_dtypes(include=['object']).columns"
   ]
  },
  {
   "cell_type": "code",
   "execution_count": 10,
   "id": "9040c944",
   "metadata": {},
   "outputs": [
    {
     "data": {
      "text/plain": [
       "Index(['type', 'title', 'director', 'cast', 'country', 'date_added', 'rating',\n",
       "       'duration', 'listed_in', 'description'],\n",
       "      dtype='object')"
      ]
     },
     "execution_count": 10,
     "metadata": {},
     "output_type": "execute_result"
    }
   ],
   "source": [
    "text_columns"
   ]
  },
  {
   "cell_type": "code",
   "execution_count": 17,
   "id": "635e1bcd",
   "metadata": {},
   "outputs": [
    {
     "name": "stderr",
     "output_type": "stream",
     "text": [
      "C:\\Users\\Kamil\\AppData\\Local\\Temp\\ipykernel_17496\\979030595.py:2: UserWarning: The argument 'infer_datetime_format' is deprecated and will be removed in a future version. A strict version of it is now the default, see https://pandas.pydata.org/pdeps/0004-consistent-to-datetime-parsing.html. You can safely remove this argument.\n",
      "  netflix_movies['date_added'] = pd.to_datetime(netflix_movies['date_added'], infer_datetime_format = True)\n"
     ]
    }
   ],
   "source": [
    "# convert dates to datetime\n",
    "netflix_movies['date_added'] = netflix_movies['date_added'].str.strip()\n",
    "netflix_movies['date_added'] = pd.to_datetime(netflix_movies['date_added'], infer_datetime_format = True)"
   ]
  }
 ],
 "metadata": {
  "kernelspec": {
   "display_name": "venv",
   "language": "python",
   "name": "python3"
  },
  "language_info": {
   "codemirror_mode": {
    "name": "ipython",
    "version": 3
   },
   "file_extension": ".py",
   "mimetype": "text/x-python",
   "name": "python",
   "nbconvert_exporter": "python",
   "pygments_lexer": "ipython3",
   "version": "3.12.2"
  }
 },
 "nbformat": 4,
 "nbformat_minor": 5
}
