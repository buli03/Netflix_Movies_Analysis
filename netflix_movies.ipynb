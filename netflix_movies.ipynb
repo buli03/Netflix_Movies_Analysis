{
 "cells": [
  {
   "cell_type": "markdown",
   "id": "580ace18",
   "metadata": {},
   "source": [
    "# Netflix Movies analysis project\n",
    "\n",
    "## Target of project\n",
    "- Practice using libraries like pandas, matplotlib\n",
    "- Practice explaining targeted problems\n",
    "- Practice visualization\n",
    "\n",
    "## Data\n",
    "Data I used comes from a website called \"Kaggle\" which is a data science community with resources\n",
    "The file i used can be found at link: https://www.kaggle.com/datasets/rahulvyasm/netflix-movies-and-tv-shows\n",
    "\n",
    "## Data description:\n",
    "- show_id: A unique identifier for each title.\n",
    "- type: The category of the title, which is either 'Movie' or 'TV Show'.\n",
    "- title: The name of the movie or TV show.\n",
    "- director: The director(s) of the movie or TV show. (Contains null values for some entries, especially TV shows where this information might not be applicable.)\n",
    "cast: The list of main actors/actresses in the title. (Some entries might not have this information.)\n",
    "- country: The country or countries where the movie or TV show was produced.\n",
    "- date_added: The date the title was added to Netflix.\n",
    "- release_year: The year the movie or TV show was originally released.\n",
    "- rating: The age rating of the title.\n",
    "- duration: The duration of the title, in minutes for movies and seasons for TV shows.\n",
    "- listed_in: The genres the title falls under.\n",
    "- description: A brief summary of the title.\n"
   ]
  },
  {
   "cell_type": "markdown",
   "id": "d3842ff2",
   "metadata": {},
   "source": [
    "### Importing libraries"
   ]
  },
  {
   "cell_type": "code",
   "execution_count": 130,
   "id": "24cfb190",
   "metadata": {},
   "outputs": [],
   "source": [
    "import pandas as pd\n",
    "import matplotlib.pyplot as plt\n",
    "import seaborn as sns\n",
    "from ydata_profiling import ProfileReport"
   ]
  },
  {
   "cell_type": "markdown",
   "id": "17f3d0a8",
   "metadata": {},
   "source": [
    "### Loading data"
   ]
  },
  {
   "cell_type": "code",
   "execution_count": 131,
   "id": "a993eebb",
   "metadata": {},
   "outputs": [],
   "source": [
    "netflix_movies = pd.read_csv('data/netflix_titles.csv', delimiter=',', decimal='.', index_col=0, encoding='latin1',  dtype={'listed_in': 'object', 'country': 'object'})"
   ]
  },
  {
   "cell_type": "markdown",
   "id": "5d3435d5",
   "metadata": {},
   "source": [
    "### Data exploration"
   ]
  },
  {
   "cell_type": "code",
   "execution_count": 132,
   "id": "4df973f0",
   "metadata": {},
   "outputs": [
    {
     "name": "stdout",
     "output_type": "stream",
     "text": [
      "<class 'pandas.core.frame.DataFrame'>\n",
      "Index: 8809 entries, s1 to s8809\n",
      "Data columns (total 25 columns):\n",
      " #   Column        Non-Null Count  Dtype  \n",
      "---  ------        --------------  -----  \n",
      " 0   type          8809 non-null   object \n",
      " 1   title         8809 non-null   object \n",
      " 2   director      6175 non-null   object \n",
      " 3   cast          7984 non-null   object \n",
      " 4   country       7978 non-null   object \n",
      " 5   date_added    8799 non-null   object \n",
      " 6   release_year  8809 non-null   int64  \n",
      " 7   rating        8805 non-null   object \n",
      " 8   duration      8806 non-null   object \n",
      " 9   listed_in     8809 non-null   object \n",
      " 10  description   8809 non-null   object \n",
      " 11  Unnamed: 12   0 non-null      float64\n",
      " 12  Unnamed: 13   0 non-null      float64\n",
      " 13  Unnamed: 14   0 non-null      float64\n",
      " 14  Unnamed: 15   0 non-null      float64\n",
      " 15  Unnamed: 16   0 non-null      float64\n",
      " 16  Unnamed: 17   0 non-null      float64\n",
      " 17  Unnamed: 18   0 non-null      float64\n",
      " 18  Unnamed: 19   0 non-null      float64\n",
      " 19  Unnamed: 20   0 non-null      float64\n",
      " 20  Unnamed: 21   0 non-null      float64\n",
      " 21  Unnamed: 22   0 non-null      float64\n",
      " 22  Unnamed: 23   0 non-null      float64\n",
      " 23  Unnamed: 24   0 non-null      float64\n",
      " 24  Unnamed: 25   0 non-null      float64\n",
      "dtypes: float64(14), int64(1), object(10)\n",
      "memory usage: 2.0+ MB\n"
     ]
    }
   ],
   "source": [
    "netflix_movies.info()"
   ]
  },
  {
   "cell_type": "code",
   "execution_count": 133,
   "id": "51cb289e",
   "metadata": {},
   "outputs": [
    {
     "data": {
      "text/html": [
       "<div>\n",
       "<style scoped>\n",
       "    .dataframe tbody tr th:only-of-type {\n",
       "        vertical-align: middle;\n",
       "    }\n",
       "\n",
       "    .dataframe tbody tr th {\n",
       "        vertical-align: top;\n",
       "    }\n",
       "\n",
       "    .dataframe thead th {\n",
       "        text-align: right;\n",
       "    }\n",
       "</style>\n",
       "<table border=\"1\" class=\"dataframe\">\n",
       "  <thead>\n",
       "    <tr style=\"text-align: right;\">\n",
       "      <th></th>\n",
       "      <th>release_year</th>\n",
       "      <th>Unnamed: 12</th>\n",
       "      <th>Unnamed: 13</th>\n",
       "      <th>Unnamed: 14</th>\n",
       "      <th>Unnamed: 15</th>\n",
       "      <th>Unnamed: 16</th>\n",
       "      <th>Unnamed: 17</th>\n",
       "      <th>Unnamed: 18</th>\n",
       "      <th>Unnamed: 19</th>\n",
       "      <th>Unnamed: 20</th>\n",
       "      <th>Unnamed: 21</th>\n",
       "      <th>Unnamed: 22</th>\n",
       "      <th>Unnamed: 23</th>\n",
       "      <th>Unnamed: 24</th>\n",
       "      <th>Unnamed: 25</th>\n",
       "    </tr>\n",
       "  </thead>\n",
       "  <tbody>\n",
       "    <tr>\n",
       "      <th>count</th>\n",
       "      <td>8809.000000</td>\n",
       "      <td>0.0</td>\n",
       "      <td>0.0</td>\n",
       "      <td>0.0</td>\n",
       "      <td>0.0</td>\n",
       "      <td>0.0</td>\n",
       "      <td>0.0</td>\n",
       "      <td>0.0</td>\n",
       "      <td>0.0</td>\n",
       "      <td>0.0</td>\n",
       "      <td>0.0</td>\n",
       "      <td>0.0</td>\n",
       "      <td>0.0</td>\n",
       "      <td>0.0</td>\n",
       "      <td>0.0</td>\n",
       "    </tr>\n",
       "    <tr>\n",
       "      <th>mean</th>\n",
       "      <td>2014.181292</td>\n",
       "      <td>NaN</td>\n",
       "      <td>NaN</td>\n",
       "      <td>NaN</td>\n",
       "      <td>NaN</td>\n",
       "      <td>NaN</td>\n",
       "      <td>NaN</td>\n",
       "      <td>NaN</td>\n",
       "      <td>NaN</td>\n",
       "      <td>NaN</td>\n",
       "      <td>NaN</td>\n",
       "      <td>NaN</td>\n",
       "      <td>NaN</td>\n",
       "      <td>NaN</td>\n",
       "      <td>NaN</td>\n",
       "    </tr>\n",
       "    <tr>\n",
       "      <th>std</th>\n",
       "      <td>8.818932</td>\n",
       "      <td>NaN</td>\n",
       "      <td>NaN</td>\n",
       "      <td>NaN</td>\n",
       "      <td>NaN</td>\n",
       "      <td>NaN</td>\n",
       "      <td>NaN</td>\n",
       "      <td>NaN</td>\n",
       "      <td>NaN</td>\n",
       "      <td>NaN</td>\n",
       "      <td>NaN</td>\n",
       "      <td>NaN</td>\n",
       "      <td>NaN</td>\n",
       "      <td>NaN</td>\n",
       "      <td>NaN</td>\n",
       "    </tr>\n",
       "    <tr>\n",
       "      <th>min</th>\n",
       "      <td>1925.000000</td>\n",
       "      <td>NaN</td>\n",
       "      <td>NaN</td>\n",
       "      <td>NaN</td>\n",
       "      <td>NaN</td>\n",
       "      <td>NaN</td>\n",
       "      <td>NaN</td>\n",
       "      <td>NaN</td>\n",
       "      <td>NaN</td>\n",
       "      <td>NaN</td>\n",
       "      <td>NaN</td>\n",
       "      <td>NaN</td>\n",
       "      <td>NaN</td>\n",
       "      <td>NaN</td>\n",
       "      <td>NaN</td>\n",
       "    </tr>\n",
       "    <tr>\n",
       "      <th>25%</th>\n",
       "      <td>2013.000000</td>\n",
       "      <td>NaN</td>\n",
       "      <td>NaN</td>\n",
       "      <td>NaN</td>\n",
       "      <td>NaN</td>\n",
       "      <td>NaN</td>\n",
       "      <td>NaN</td>\n",
       "      <td>NaN</td>\n",
       "      <td>NaN</td>\n",
       "      <td>NaN</td>\n",
       "      <td>NaN</td>\n",
       "      <td>NaN</td>\n",
       "      <td>NaN</td>\n",
       "      <td>NaN</td>\n",
       "      <td>NaN</td>\n",
       "    </tr>\n",
       "    <tr>\n",
       "      <th>50%</th>\n",
       "      <td>2017.000000</td>\n",
       "      <td>NaN</td>\n",
       "      <td>NaN</td>\n",
       "      <td>NaN</td>\n",
       "      <td>NaN</td>\n",
       "      <td>NaN</td>\n",
       "      <td>NaN</td>\n",
       "      <td>NaN</td>\n",
       "      <td>NaN</td>\n",
       "      <td>NaN</td>\n",
       "      <td>NaN</td>\n",
       "      <td>NaN</td>\n",
       "      <td>NaN</td>\n",
       "      <td>NaN</td>\n",
       "      <td>NaN</td>\n",
       "    </tr>\n",
       "    <tr>\n",
       "      <th>75%</th>\n",
       "      <td>2019.000000</td>\n",
       "      <td>NaN</td>\n",
       "      <td>NaN</td>\n",
       "      <td>NaN</td>\n",
       "      <td>NaN</td>\n",
       "      <td>NaN</td>\n",
       "      <td>NaN</td>\n",
       "      <td>NaN</td>\n",
       "      <td>NaN</td>\n",
       "      <td>NaN</td>\n",
       "      <td>NaN</td>\n",
       "      <td>NaN</td>\n",
       "      <td>NaN</td>\n",
       "      <td>NaN</td>\n",
       "      <td>NaN</td>\n",
       "    </tr>\n",
       "    <tr>\n",
       "      <th>max</th>\n",
       "      <td>2024.000000</td>\n",
       "      <td>NaN</td>\n",
       "      <td>NaN</td>\n",
       "      <td>NaN</td>\n",
       "      <td>NaN</td>\n",
       "      <td>NaN</td>\n",
       "      <td>NaN</td>\n",
       "      <td>NaN</td>\n",
       "      <td>NaN</td>\n",
       "      <td>NaN</td>\n",
       "      <td>NaN</td>\n",
       "      <td>NaN</td>\n",
       "      <td>NaN</td>\n",
       "      <td>NaN</td>\n",
       "      <td>NaN</td>\n",
       "    </tr>\n",
       "  </tbody>\n",
       "</table>\n",
       "</div>"
      ],
      "text/plain": [
       "       release_year  Unnamed: 12  Unnamed: 13  Unnamed: 14  Unnamed: 15  \\\n",
       "count   8809.000000          0.0          0.0          0.0          0.0   \n",
       "mean    2014.181292          NaN          NaN          NaN          NaN   \n",
       "std        8.818932          NaN          NaN          NaN          NaN   \n",
       "min     1925.000000          NaN          NaN          NaN          NaN   \n",
       "25%     2013.000000          NaN          NaN          NaN          NaN   \n",
       "50%     2017.000000          NaN          NaN          NaN          NaN   \n",
       "75%     2019.000000          NaN          NaN          NaN          NaN   \n",
       "max     2024.000000          NaN          NaN          NaN          NaN   \n",
       "\n",
       "       Unnamed: 16  Unnamed: 17  Unnamed: 18  Unnamed: 19  Unnamed: 20  \\\n",
       "count          0.0          0.0          0.0          0.0          0.0   \n",
       "mean           NaN          NaN          NaN          NaN          NaN   \n",
       "std            NaN          NaN          NaN          NaN          NaN   \n",
       "min            NaN          NaN          NaN          NaN          NaN   \n",
       "25%            NaN          NaN          NaN          NaN          NaN   \n",
       "50%            NaN          NaN          NaN          NaN          NaN   \n",
       "75%            NaN          NaN          NaN          NaN          NaN   \n",
       "max            NaN          NaN          NaN          NaN          NaN   \n",
       "\n",
       "       Unnamed: 21  Unnamed: 22  Unnamed: 23  Unnamed: 24  Unnamed: 25  \n",
       "count          0.0          0.0          0.0          0.0          0.0  \n",
       "mean           NaN          NaN          NaN          NaN          NaN  \n",
       "std            NaN          NaN          NaN          NaN          NaN  \n",
       "min            NaN          NaN          NaN          NaN          NaN  \n",
       "25%            NaN          NaN          NaN          NaN          NaN  \n",
       "50%            NaN          NaN          NaN          NaN          NaN  \n",
       "75%            NaN          NaN          NaN          NaN          NaN  \n",
       "max            NaN          NaN          NaN          NaN          NaN  "
      ]
     },
     "execution_count": 133,
     "metadata": {},
     "output_type": "execute_result"
    }
   ],
   "source": [
    "netflix_movies.describe()"
   ]
  },
  {
   "cell_type": "code",
   "execution_count": 134,
   "id": "537e2221",
   "metadata": {},
   "outputs": [
    {
     "name": "stdout",
     "output_type": "stream",
     "text": [
      "Number of null values in each column:\n",
      "type               0\n",
      "title              0\n",
      "director        2634\n",
      "cast             825\n",
      "country          831\n",
      "date_added        10\n",
      "release_year       0\n",
      "rating             4\n",
      "duration           3\n",
      "listed_in          0\n",
      "description        0\n",
      "Unnamed: 12     8809\n",
      "Unnamed: 13     8809\n",
      "Unnamed: 14     8809\n",
      "Unnamed: 15     8809\n",
      "Unnamed: 16     8809\n",
      "Unnamed: 17     8809\n",
      "Unnamed: 18     8809\n",
      "Unnamed: 19     8809\n",
      "Unnamed: 20     8809\n",
      "Unnamed: 21     8809\n",
      "Unnamed: 22     8809\n",
      "Unnamed: 23     8809\n",
      "Unnamed: 24     8809\n",
      "Unnamed: 25     8809\n",
      "dtype: int64\n"
     ]
    }
   ],
   "source": [
    "null_counts = netflix_movies.isnull().sum()\n",
    "print(\"Number of null values in each column:\\n{}\".format(null_counts))"
   ]
  },
  {
   "cell_type": "code",
   "execution_count": 135,
   "id": "c525fb8b",
   "metadata": {},
   "outputs": [
    {
     "data": {
      "text/plain": [
       "8809"
      ]
     },
     "execution_count": 135,
     "metadata": {},
     "output_type": "execute_result"
    }
   ],
   "source": [
    "num_rows = len(netflix_movies)\n",
    "num_rows"
   ]
  },
  {
   "cell_type": "markdown",
   "id": "1b9bd888",
   "metadata": {},
   "source": [
    "### Data cleaning"
   ]
  },
  {
   "cell_type": "markdown",
   "id": "4cb3e38c",
   "metadata": {},
   "source": [
    "#### Deleting unnamed columns"
   ]
  },
  {
   "cell_type": "code",
   "execution_count": 136,
   "id": "182e4ae2",
   "metadata": {},
   "outputs": [],
   "source": [
    "# drop unnamed columns\n",
    "netflix_movies.drop(netflix_movies.columns[netflix_movies.columns.str.contains('unnamed', case=False)], axis=1, inplace=True)"
   ]
  },
  {
   "cell_type": "code",
   "execution_count": 137,
   "id": "c543a5ce",
   "metadata": {},
   "outputs": [
    {
     "name": "stdout",
     "output_type": "stream",
     "text": [
      "Number of null values in each column:\n",
      "type               0\n",
      "title              0\n",
      "director        2634\n",
      "cast             825\n",
      "country          831\n",
      "date_added        10\n",
      "release_year       0\n",
      "rating             4\n",
      "duration           3\n",
      "listed_in          0\n",
      "description        0\n",
      "dtype: int64\n"
     ]
    }
   ],
   "source": [
    "# null counts\n",
    "null_counts = netflix_movies.isnull().sum()\n",
    "print(\"Number of null values in each column:\\n{}\".format(null_counts))"
   ]
  },
  {
   "cell_type": "markdown",
   "id": "edb8967d",
   "metadata": {},
   "source": [
    "#### Converting data types for easier access"
   ]
  },
  {
   "cell_type": "code",
   "execution_count": 138,
   "id": "68459606",
   "metadata": {},
   "outputs": [],
   "source": [
    "text_columns = netflix_movies.select_dtypes(include=['object']).columns"
   ]
  },
  {
   "cell_type": "code",
   "execution_count": 139,
   "id": "9040c944",
   "metadata": {},
   "outputs": [
    {
     "data": {
      "text/plain": [
       "Index(['type', 'title', 'director', 'cast', 'country', 'date_added', 'rating',\n",
       "       'duration', 'listed_in', 'description'],\n",
       "      dtype='object')"
      ]
     },
     "execution_count": 139,
     "metadata": {},
     "output_type": "execute_result"
    }
   ],
   "source": [
    "text_columns"
   ]
  },
  {
   "cell_type": "code",
   "execution_count": 140,
   "id": "5bdf2466",
   "metadata": {},
   "outputs": [
    {
     "name": "stdout",
     "output_type": "stream",
     "text": [
      "show_id\n",
      "s1       [Kirsten Johnson]\n",
      "s2               [No data]\n",
      "s3       [Julien Leclercq]\n",
      "s4               [No data]\n",
      "s5               [No data]\n",
      "               ...        \n",
      "s8805    [Ruben Fleischer]\n",
      "s8806       [Peter Hewitt]\n",
      "s8807        [Mozez Singh]\n",
      "s8808       [Yeon Sang-ho]\n",
      "s8809       [Susanne Bier]\n",
      "Name: director, Length: 8809, dtype: object\n"
     ]
    }
   ],
   "source": [
    "# Director null values handling\n",
    "# Replace null values with 'No data' for easier readability\n",
    "netflix_movies[\"director\"] = netflix_movies[\"director\"].fillna('No data')\n",
    "netflix_movies[\"director\"] = netflix_movies[\"director\"].str.split(\",\")\n",
    "netflix_movies[\"director\"] = netflix_movies[\"director\"].apply(lambda x: [item.strip() for item in x if item.strip() != ''])\n",
    "\n",
    "print(netflix_movies['director'])"
   ]
  },
  {
   "cell_type": "code",
   "execution_count": 141,
   "id": "ccf24886",
   "metadata": {},
   "outputs": [
    {
     "name": "stdout",
     "output_type": "stream",
     "text": [
      "show_id\n",
      "s1                                               [No data]\n",
      "s2       [Ama Qamata, Khosi Ngema, Gail Mabalane, Thaba...\n",
      "s3       [Sami Bouajila, Tracy Gotoas, Samuel Jouy, Nab...\n",
      "s4                                               [No data]\n",
      "s5       [Mayur More, Jitendra Kumar, Ranjan Raj, Alam ...\n",
      "                               ...                        \n",
      "s8805    [Jesse Eisenberg, Woody Harrelson, Emma Stone,...\n",
      "s8806    [Tim Allen, Courteney Cox, Chevy Chase, Kate M...\n",
      "s8807    [Vicky Kaushal, Sarah-Jane Dias, Raaghav Chana...\n",
      "s8808         [Shin Hyun-been, Jeon Yeo-bin, Goo Kyo-hwan]\n",
      "s8809    [Bradley Cooper, Jennifer Lawrence, Toby Jones...\n",
      "Name: cast, Length: 8809, dtype: object\n"
     ]
    }
   ],
   "source": [
    "# Cast null values handling\n",
    "# Replace null values with 'No data' for easier readability\n",
    "netflix_movies[\"cast\"] = netflix_movies[\"cast\"].fillna('No data')\n",
    "netflix_movies[\"cast\"] = netflix_movies[\"cast\"].str.split(\",\")\n",
    "netflix_movies[\"cast\"] = netflix_movies[\"cast\"].apply(lambda x: [item.strip() for item in x if item.strip() != ''])\n",
    "\n",
    "print(netflix_movies['cast'])"
   ]
  },
  {
   "cell_type": "code",
   "execution_count": 142,
   "id": "32d13d1b",
   "metadata": {},
   "outputs": [
    {
     "name": "stdout",
     "output_type": "stream",
     "text": [
      "show_id\n",
      "s1       [United States]\n",
      "s2        [South Africa]\n",
      "s3             [No data]\n",
      "s4             [No data]\n",
      "s5               [India]\n",
      "              ...       \n",
      "s8805    [United States]\n",
      "s8806    [United States]\n",
      "s8807            [India]\n",
      "s8808      [South Korea]\n",
      "s8809    [United States]\n",
      "Name: country, Length: 8809, dtype: object\n"
     ]
    }
   ],
   "source": [
    "# Replace null values with 'No data' for easier readability\n",
    "netflix_movies[\"country\"] = netflix_movies[\"country\"].fillna('No data')\n",
    "netflix_movies[\"country\"] = netflix_movies[\"country\"].str.split(\",\")\n",
    "netflix_movies[\"country\"] = netflix_movies[\"country\"].apply(lambda x: [item.strip() for item in x if item.strip() != ''])\n",
    "\n",
    "print(netflix_movies['country'])"
   ]
  },
  {
   "cell_type": "code",
   "execution_count": 143,
   "id": "068de37a",
   "metadata": {},
   "outputs": [
    {
     "name": "stdout",
     "output_type": "stream",
     "text": [
      "The number of 'No data' values in the 'country' column is: 831\n"
     ]
    }
   ],
   "source": [
    "no_data_count = netflix_movies[\"country\"].explode().str.contains('No data').sum()\n",
    "print(f\"The number of 'No data' values in the 'country' column is: {no_data_count}\")"
   ]
  },
  {
   "cell_type": "code",
   "execution_count": 144,
   "id": "635e1bcd",
   "metadata": {},
   "outputs": [
    {
     "name": "stdout",
     "output_type": "stream",
     "text": [
      "show_id\n",
      "s1      2021-09-25\n",
      "s2      2021-09-24\n",
      "s3      2021-09-24\n",
      "s4      2021-09-24\n",
      "s5      2021-09-24\n",
      "           ...    \n",
      "s8805   2019-11-01\n",
      "s8806   2020-01-11\n",
      "s8807   2019-03-02\n",
      "s8808   2024-04-05\n",
      "s8809   2024-04-05\n",
      "Name: date_added, Length: 8809, dtype: datetime64[ns]\n"
     ]
    }
   ],
   "source": [
    "# Convert dates to datetime type\n",
    "netflix_movies['date_added'] = netflix_movies['date_added'].str.strip()\n",
    "netflix_movies['date_added'] = pd.to_datetime(netflix_movies['date_added'], errors='coerce')\n",
    "print(netflix_movies['date_added'])"
   ]
  },
  {
   "cell_type": "code",
   "execution_count": 145,
   "id": "7fb3c164",
   "metadata": {},
   "outputs": [],
   "source": [
    "# remove rows where date_added is null\n",
    "netflix_movies = netflix_movies[~netflix_movies['date_added'].isna()]"
   ]
  },
  {
   "cell_type": "code",
   "execution_count": 146,
   "id": "c55c3feb",
   "metadata": {},
   "outputs": [
    {
     "name": "stdout",
     "output_type": "stream",
     "text": [
      "The number of null values in the 'date_added' column is: 0\n"
     ]
    }
   ],
   "source": [
    "print(f\"The number of null values in the 'date_added' column is: {netflix_movies['date_added'].isnull().sum()}\")"
   ]
  },
  {
   "cell_type": "code",
   "execution_count": 147,
   "id": "bc20d136",
   "metadata": {},
   "outputs": [
    {
     "name": "stdout",
     "output_type": "stream",
     "text": [
      "show_id\n",
      "s1                                         [Documentaries]\n",
      "s2       [International TV Shows, TV Dramas, TV Mysteries]\n",
      "s3       [Crime TV Shows, International TV Shows, TV Ac...\n",
      "s4                                [Docuseries, Reality TV]\n",
      "s5       [International TV Shows, Romantic TV Shows, TV...\n",
      "                               ...                        \n",
      "s8805                            [Comedies, Horror Movies]\n",
      "s8806                 [Children & Family Movies, Comedies]\n",
      "s8807     [Dramas, International Movies, Music & Musicals]\n",
      "s8808                             [Sci-fi, Horror, Action]\n",
      "s8809                           [Drama, Romance, Thriller]\n",
      "Name: listed_in, Length: 8799, dtype: object\n"
     ]
    }
   ],
   "source": [
    "# Splitting column 'listed_in' as there can be multiple values in column\n",
    "netflix_movies[\"listed_in\"] = netflix_movies[\"listed_in\"].str.split(\",\")\n",
    "netflix_movies[\"listed_in\"] = netflix_movies[\"listed_in\"].apply(lambda x: [item.strip() for item in x])\n",
    "\n",
    "print(netflix_movies['listed_in'])"
   ]
  },
  {
   "cell_type": "code",
   "execution_count": 148,
   "id": "41cb1cea",
   "metadata": {},
   "outputs": [
    {
     "name": "stdout",
     "output_type": "stream",
     "text": [
      "show_id\n",
      "s1       PG-13\n",
      "s2       TV-MA\n",
      "s3       TV-MA\n",
      "s4       TV-MA\n",
      "s5       TV-MA\n",
      "         ...  \n",
      "s8805        R\n",
      "s8806       PG\n",
      "s8807    TV-14\n",
      "s8808    TV-MA\n",
      "s8809        A\n",
      "Name: rating, Length: 8799, dtype: object\n"
     ]
    }
   ],
   "source": [
    "# Handling rating null values\n",
    "netflix_movies['rating'] = netflix_movies['rating'].fillna('No data')\n",
    "print(netflix_movies['rating'])"
   ]
  },
  {
   "cell_type": "code",
   "execution_count": 149,
   "id": "c8215942",
   "metadata": {},
   "outputs": [
    {
     "name": "stdout",
     "output_type": "stream",
     "text": [
      "show_id\n",
      "s1          90 min\n",
      "s2       2 Seasons\n",
      "s3        1 Season\n",
      "s4        1 Season\n",
      "s5       2 Seasons\n",
      "           ...    \n",
      "s8805       88 min\n",
      "s8806       88 min\n",
      "s8807      111 min\n",
      "s8808     1 Season\n",
      "s8809      110 min\n",
      "Name: duration, Length: 8799, dtype: object\n"
     ]
    }
   ],
   "source": [
    "# Handling duration null values\n",
    "netflix_movies['duration'] = netflix_movies['duration'].fillna('No data')\n",
    "print(netflix_movies['duration'])"
   ]
  },
  {
   "cell_type": "markdown",
   "id": "5b24a3b1",
   "metadata": {},
   "source": [
    "### Dataset after cleaning"
   ]
  },
  {
   "cell_type": "code",
   "execution_count": 150,
   "id": "3e67fc3b",
   "metadata": {},
   "outputs": [
    {
     "data": {
      "text/html": [
       "<div>\n",
       "<style scoped>\n",
       "    .dataframe tbody tr th:only-of-type {\n",
       "        vertical-align: middle;\n",
       "    }\n",
       "\n",
       "    .dataframe tbody tr th {\n",
       "        vertical-align: top;\n",
       "    }\n",
       "\n",
       "    .dataframe thead th {\n",
       "        text-align: right;\n",
       "    }\n",
       "</style>\n",
       "<table border=\"1\" class=\"dataframe\">\n",
       "  <thead>\n",
       "    <tr style=\"text-align: right;\">\n",
       "      <th></th>\n",
       "      <th>type</th>\n",
       "      <th>title</th>\n",
       "      <th>director</th>\n",
       "      <th>cast</th>\n",
       "      <th>country</th>\n",
       "      <th>date_added</th>\n",
       "      <th>release_year</th>\n",
       "      <th>rating</th>\n",
       "      <th>duration</th>\n",
       "      <th>listed_in</th>\n",
       "      <th>description</th>\n",
       "    </tr>\n",
       "    <tr>\n",
       "      <th>show_id</th>\n",
       "      <th></th>\n",
       "      <th></th>\n",
       "      <th></th>\n",
       "      <th></th>\n",
       "      <th></th>\n",
       "      <th></th>\n",
       "      <th></th>\n",
       "      <th></th>\n",
       "      <th></th>\n",
       "      <th></th>\n",
       "      <th></th>\n",
       "    </tr>\n",
       "  </thead>\n",
       "  <tbody>\n",
       "    <tr>\n",
       "      <th>s1</th>\n",
       "      <td>Movie</td>\n",
       "      <td>Dick Johnson Is Dead</td>\n",
       "      <td>[Kirsten Johnson]</td>\n",
       "      <td>[No data]</td>\n",
       "      <td>[United States]</td>\n",
       "      <td>2021-09-25</td>\n",
       "      <td>2020</td>\n",
       "      <td>PG-13</td>\n",
       "      <td>90 min</td>\n",
       "      <td>[Documentaries]</td>\n",
       "      <td>As her father nears the end of his life, filmm...</td>\n",
       "    </tr>\n",
       "    <tr>\n",
       "      <th>s2</th>\n",
       "      <td>TV Show</td>\n",
       "      <td>Blood &amp; Water</td>\n",
       "      <td>[No data]</td>\n",
       "      <td>[Ama Qamata, Khosi Ngema, Gail Mabalane, Thaba...</td>\n",
       "      <td>[South Africa]</td>\n",
       "      <td>2021-09-24</td>\n",
       "      <td>2021</td>\n",
       "      <td>TV-MA</td>\n",
       "      <td>2 Seasons</td>\n",
       "      <td>[International TV Shows, TV Dramas, TV Mysteries]</td>\n",
       "      <td>After crossing paths at a party, a Cape Town t...</td>\n",
       "    </tr>\n",
       "    <tr>\n",
       "      <th>s3</th>\n",
       "      <td>TV Show</td>\n",
       "      <td>Ganglands</td>\n",
       "      <td>[Julien Leclercq]</td>\n",
       "      <td>[Sami Bouajila, Tracy Gotoas, Samuel Jouy, Nab...</td>\n",
       "      <td>[No data]</td>\n",
       "      <td>2021-09-24</td>\n",
       "      <td>2021</td>\n",
       "      <td>TV-MA</td>\n",
       "      <td>1 Season</td>\n",
       "      <td>[Crime TV Shows, International TV Shows, TV Ac...</td>\n",
       "      <td>To protect his family from a powerful drug lor...</td>\n",
       "    </tr>\n",
       "    <tr>\n",
       "      <th>s4</th>\n",
       "      <td>TV Show</td>\n",
       "      <td>Jailbirds New Orleans</td>\n",
       "      <td>[No data]</td>\n",
       "      <td>[No data]</td>\n",
       "      <td>[No data]</td>\n",
       "      <td>2021-09-24</td>\n",
       "      <td>2021</td>\n",
       "      <td>TV-MA</td>\n",
       "      <td>1 Season</td>\n",
       "      <td>[Docuseries, Reality TV]</td>\n",
       "      <td>Feuds, flirtations and toilet talk go down amo...</td>\n",
       "    </tr>\n",
       "    <tr>\n",
       "      <th>s5</th>\n",
       "      <td>TV Show</td>\n",
       "      <td>Kota Factory</td>\n",
       "      <td>[No data]</td>\n",
       "      <td>[Mayur More, Jitendra Kumar, Ranjan Raj, Alam ...</td>\n",
       "      <td>[India]</td>\n",
       "      <td>2021-09-24</td>\n",
       "      <td>2021</td>\n",
       "      <td>TV-MA</td>\n",
       "      <td>2 Seasons</td>\n",
       "      <td>[International TV Shows, Romantic TV Shows, TV...</td>\n",
       "      <td>In a city of coaching centers known to train I...</td>\n",
       "    </tr>\n",
       "  </tbody>\n",
       "</table>\n",
       "</div>"
      ],
      "text/plain": [
       "            type                  title           director  \\\n",
       "show_id                                                      \n",
       "s1         Movie   Dick Johnson Is Dead  [Kirsten Johnson]   \n",
       "s2       TV Show          Blood & Water          [No data]   \n",
       "s3       TV Show              Ganglands  [Julien Leclercq]   \n",
       "s4       TV Show  Jailbirds New Orleans          [No data]   \n",
       "s5       TV Show           Kota Factory          [No data]   \n",
       "\n",
       "                                                      cast          country  \\\n",
       "show_id                                                                       \n",
       "s1                                               [No data]  [United States]   \n",
       "s2       [Ama Qamata, Khosi Ngema, Gail Mabalane, Thaba...   [South Africa]   \n",
       "s3       [Sami Bouajila, Tracy Gotoas, Samuel Jouy, Nab...        [No data]   \n",
       "s4                                               [No data]        [No data]   \n",
       "s5       [Mayur More, Jitendra Kumar, Ranjan Raj, Alam ...          [India]   \n",
       "\n",
       "        date_added  release_year rating   duration  \\\n",
       "show_id                                              \n",
       "s1      2021-09-25          2020  PG-13     90 min   \n",
       "s2      2021-09-24          2021  TV-MA  2 Seasons   \n",
       "s3      2021-09-24          2021  TV-MA   1 Season   \n",
       "s4      2021-09-24          2021  TV-MA   1 Season   \n",
       "s5      2021-09-24          2021  TV-MA  2 Seasons   \n",
       "\n",
       "                                                 listed_in  \\\n",
       "show_id                                                      \n",
       "s1                                         [Documentaries]   \n",
       "s2       [International TV Shows, TV Dramas, TV Mysteries]   \n",
       "s3       [Crime TV Shows, International TV Shows, TV Ac...   \n",
       "s4                                [Docuseries, Reality TV]   \n",
       "s5       [International TV Shows, Romantic TV Shows, TV...   \n",
       "\n",
       "                                               description  \n",
       "show_id                                                     \n",
       "s1       As her father nears the end of his life, filmm...  \n",
       "s2       After crossing paths at a party, a Cape Town t...  \n",
       "s3       To protect his family from a powerful drug lor...  \n",
       "s4       Feuds, flirtations and toilet talk go down amo...  \n",
       "s5       In a city of coaching centers known to train I...  "
      ]
     },
     "execution_count": 150,
     "metadata": {},
     "output_type": "execute_result"
    }
   ],
   "source": [
    "netflix_movies.head()"
   ]
  },
  {
   "cell_type": "code",
   "execution_count": 151,
   "id": "a53e5778",
   "metadata": {},
   "outputs": [
    {
     "name": "stdout",
     "output_type": "stream",
     "text": [
      "<class 'pandas.core.frame.DataFrame'>\n",
      "Index: 8799 entries, s1 to s8809\n",
      "Data columns (total 11 columns):\n",
      " #   Column        Non-Null Count  Dtype         \n",
      "---  ------        --------------  -----         \n",
      " 0   type          8799 non-null   object        \n",
      " 1   title         8799 non-null   object        \n",
      " 2   director      8799 non-null   object        \n",
      " 3   cast          8799 non-null   object        \n",
      " 4   country       8799 non-null   object        \n",
      " 5   date_added    8799 non-null   datetime64[ns]\n",
      " 6   release_year  8799 non-null   int64         \n",
      " 7   rating        8799 non-null   object        \n",
      " 8   duration      8799 non-null   object        \n",
      " 9   listed_in     8799 non-null   object        \n",
      " 10  description   8799 non-null   object        \n",
      "dtypes: datetime64[ns](1), int64(1), object(9)\n",
      "memory usage: 824.9+ KB\n"
     ]
    }
   ],
   "source": [
    "netflix_movies.info()"
   ]
  },
  {
   "cell_type": "code",
   "execution_count": 152,
   "id": "76207f67",
   "metadata": {},
   "outputs": [
    {
     "name": "stdout",
     "output_type": "stream",
     "text": [
      "Number of null values in each column:\n",
      "type            0\n",
      "title           0\n",
      "director        0\n",
      "cast            0\n",
      "country         0\n",
      "date_added      0\n",
      "release_year    0\n",
      "rating          0\n",
      "duration        0\n",
      "listed_in       0\n",
      "description     0\n",
      "dtype: int64\n"
     ]
    }
   ],
   "source": [
    "null_counts = netflix_movies.isnull().sum()\n",
    "print(\"Number of null values in each column:\\n{}\".format(null_counts))"
   ]
  }
 ],
 "metadata": {
  "kernelspec": {
   "display_name": "venv",
   "language": "python",
   "name": "python3"
  },
  "language_info": {
   "codemirror_mode": {
    "name": "ipython",
    "version": 3
   },
   "file_extension": ".py",
   "mimetype": "text/x-python",
   "name": "python",
   "nbconvert_exporter": "python",
   "pygments_lexer": "ipython3",
   "version": "3.12.2"
  }
 },
 "nbformat": 4,
 "nbformat_minor": 5
}
